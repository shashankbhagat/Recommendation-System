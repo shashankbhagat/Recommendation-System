{
  "nbformat": 4,
  "nbformat_minor": 0,
  "metadata": {
    "colab": {
      "name": "Recommendation_System.ipynb",
      "version": "0.3.2",
      "provenance": [],
      "include_colab_link": true
    },
    "kernelspec": {
      "name": "python3",
      "display_name": "Python 3"
    }
  },
  "cells": [
    {
      "cell_type": "markdown",
      "metadata": {
        "id": "view-in-github",
        "colab_type": "text"
      },
      "source": [
        "<a href=\"https://colab.research.google.com/github/shashankbhagat/Recommendation-System/blob/master/Recommendation_System.ipynb\" target=\"_parent\"><img src=\"https://colab.research.google.com/assets/colab-badge.svg\" alt=\"Open In Colab\"/></a>"
      ]
    },
    {
      "cell_type": "code",
      "metadata": {
        "id": "TSG7Vo7MXFTJ",
        "colab_type": "code",
        "colab": {
          "base_uri": "https://localhost:8080/",
          "height": 694
        },
        "outputId": "20ae38cd-ea03-465b-cb42-acce10b56888"
      },
      "source": [
        "import tensorflow as tf\n",
        "import csv\n",
        "from collections import defaultdict\n",
        "import random\n",
        "import scipy as sc\n",
        "import tensorflow as tf\n",
        "#import tensorrec\n",
        "!pip install tensorrec"
      ],
      "execution_count": 43,
      "outputs": [
        {
          "output_type": "stream",
          "text": [
            "Collecting tensorrec\n",
            "  Downloading https://files.pythonhosted.org/packages/1d/14/608abc1c669caf7f2f9a7a13d237bd3f58df08ed71b8eb4c2d756b025adf/tensorrec-0.26.2-py3-none-any.whl\n",
            "Collecting six==1.11.0 (from tensorrec)\n",
            "  Downloading https://files.pythonhosted.org/packages/67/4b/141a581104b1f6397bfa78ac9d43d8ad29a7ca43ea90a2d863fe3056e86a/six-1.11.0-py2.py3-none-any.whl\n",
            "Requirement already satisfied: tensorflow>=1.7.0 in /usr/local/lib/python3.6/dist-packages (from tensorrec) (1.14.0)\n",
            "Requirement already satisfied: scipy>=0.19.1 in /usr/local/lib/python3.6/dist-packages (from tensorrec) (1.3.1)\n",
            "Requirement already satisfied: numpy>=1.14.1 in /usr/local/lib/python3.6/dist-packages (from tensorrec) (1.16.4)\n",
            "Requirement already satisfied: keras-applications>=1.0.6 in /usr/local/lib/python3.6/dist-packages (from tensorflow>=1.7.0->tensorrec) (1.0.8)\n",
            "Requirement already satisfied: astor>=0.6.0 in /usr/local/lib/python3.6/dist-packages (from tensorflow>=1.7.0->tensorrec) (0.8.0)\n",
            "Requirement already satisfied: google-pasta>=0.1.6 in /usr/local/lib/python3.6/dist-packages (from tensorflow>=1.7.0->tensorrec) (0.1.7)\n",
            "Requirement already satisfied: keras-preprocessing>=1.0.5 in /usr/local/lib/python3.6/dist-packages (from tensorflow>=1.7.0->tensorrec) (1.1.0)\n",
            "Requirement already satisfied: tensorboard<1.15.0,>=1.14.0 in /usr/local/lib/python3.6/dist-packages (from tensorflow>=1.7.0->tensorrec) (1.14.0)\n",
            "Requirement already satisfied: termcolor>=1.1.0 in /usr/local/lib/python3.6/dist-packages (from tensorflow>=1.7.0->tensorrec) (1.1.0)\n",
            "Requirement already satisfied: absl-py>=0.7.0 in /usr/local/lib/python3.6/dist-packages (from tensorflow>=1.7.0->tensorrec) (0.7.1)\n",
            "Requirement already satisfied: gast>=0.2.0 in /usr/local/lib/python3.6/dist-packages (from tensorflow>=1.7.0->tensorrec) (0.2.2)\n",
            "Requirement already satisfied: grpcio>=1.8.6 in /usr/local/lib/python3.6/dist-packages (from tensorflow>=1.7.0->tensorrec) (1.15.0)\n",
            "Requirement already satisfied: protobuf>=3.6.1 in /usr/local/lib/python3.6/dist-packages (from tensorflow>=1.7.0->tensorrec) (3.7.1)\n",
            "Requirement already satisfied: tensorflow-estimator<1.15.0rc0,>=1.14.0rc0 in /usr/local/lib/python3.6/dist-packages (from tensorflow>=1.7.0->tensorrec) (1.14.0)\n",
            "Requirement already satisfied: wheel>=0.26 in /usr/local/lib/python3.6/dist-packages (from tensorflow>=1.7.0->tensorrec) (0.33.6)\n",
            "Requirement already satisfied: wrapt>=1.11.1 in /usr/local/lib/python3.6/dist-packages (from tensorflow>=1.7.0->tensorrec) (1.11.2)\n",
            "Requirement already satisfied: h5py in /usr/local/lib/python3.6/dist-packages (from keras-applications>=1.0.6->tensorflow>=1.7.0->tensorrec) (2.8.0)\n",
            "Requirement already satisfied: markdown>=2.6.8 in /usr/local/lib/python3.6/dist-packages (from tensorboard<1.15.0,>=1.14.0->tensorflow>=1.7.0->tensorrec) (3.1.1)\n",
            "Requirement already satisfied: werkzeug>=0.11.15 in /usr/local/lib/python3.6/dist-packages (from tensorboard<1.15.0,>=1.14.0->tensorflow>=1.7.0->tensorrec) (0.15.5)\n",
            "Requirement already satisfied: setuptools>=41.0.0 in /usr/local/lib/python3.6/dist-packages (from tensorboard<1.15.0,>=1.14.0->tensorflow>=1.7.0->tensorrec) (41.2.0)\n",
            "\u001b[31mERROR: google-colab 1.0.0 has requirement six~=1.12.0, but you'll have six 1.11.0 which is incompatible.\u001b[0m\n",
            "\u001b[31mERROR: datascience 0.10.6 has requirement folium==0.2.1, but you'll have folium 0.8.3 which is incompatible.\u001b[0m\n",
            "\u001b[31mERROR: albumentations 0.1.12 has requirement imgaug<0.2.7,>=0.2.5, but you'll have imgaug 0.2.9 which is incompatible.\u001b[0m\n",
            "Installing collected packages: six, tensorrec\n",
            "  Found existing installation: six 1.12.0\n",
            "    Uninstalling six-1.12.0:\n",
            "      Successfully uninstalled six-1.12.0\n",
            "Successfully installed six-1.11.0 tensorrec-0.26.2\n"
          ],
          "name": "stdout"
        },
        {
          "output_type": "display_data",
          "data": {
            "application/vnd.colab-display-data+json": {
              "pip_warning": {
                "packages": [
                  "six"
                ]
              }
            }
          },
          "metadata": {
            "tags": []
          }
        }
      ]
    },
    {
      "cell_type": "code",
      "metadata": {
        "id": "GBXkEopjXv8n",
        "colab_type": "code",
        "colab": {
          "base_uri": "https://localhost:8080/",
          "height": 35
        },
        "outputId": "5a9966b0-a1c3-4ae3-a2aa-a9acc9df6088"
      },
      "source": [
        "print('Loading Data')\n",
        "with open('ratings.csv') as ratings_file:\n",
        "    ratings_file_reader=csv.reader(ratings_file)\n",
        "    raw_ratings = list(ratings_file_reader)\n",
        "    raw_ratings_header = raw_ratings.pop(0)"
      ],
      "execution_count": 8,
      "outputs": [
        {
          "output_type": "stream",
          "text": [
            "Loading Data\n"
          ],
          "name": "stdout"
        }
      ]
    },
    {
      "cell_type": "code",
      "metadata": {
        "id": "TBKZ-hwKjhxo",
        "colab_type": "code",
        "colab": {}
      },
      "source": [
        "# Iterate through the input to map MovieLens IDs to new internal IDs\n",
        "# The new internal IDs will be created by the defaultdict on insertion\n",
        "\n",
        "movielens_to_internal_user_ids=defaultdict(lambda:len(movielens_to_internal_user_ids))\n",
        "movielens_to_internal_item_ids=defaultdict(lambda:len(movielens_to_internal_item_ids))\n",
        "for row in raw_ratings:\n",
        "    row[0] = movielens_to_internal_user_ids[int(row[0])]\n",
        "    row[1] = movielens_to_internal_item_ids[int(row[1])]\n",
        "    row[2]=float(row[2])\n",
        "n_users = len(movielens_to_internal_user_ids)\n",
        "n_items=len(movielens_to_internal_item_ids)"
      ],
      "execution_count": 0,
      "outputs": []
    },
    {
      "cell_type": "code",
      "metadata": {
        "id": "BsAooidDkvmm",
        "colab_type": "code",
        "colab": {}
      },
      "source": [
        "random.shuffle(raw_ratings)\n",
        "cutoff=int(0.8*len(raw_ratings))\n",
        "train_ratings=raw_ratings[:cutoff]\n",
        "test_ratings=raw_ratings[cutoff:]"
      ],
      "execution_count": 0,
      "outputs": []
    },
    {
      "cell_type": "code",
      "metadata": {
        "id": "VxbT0rULoqZG",
        "colab_type": "code",
        "colab": {}
      },
      "source": [
        "# This method converts a list of (user, item, rating, time) to a sparse matrix\n",
        "def interactions_list_to_sparse_matrix(interactions):\n",
        "    user_column,item_column, ratings_column, _ = zip(*interactions)\n",
        "    return sc.sparse.coo_matrix((ratings_column,(user_column,item_column)),shape=(n_users,n_items))\n",
        "\n",
        "# Create sparse matrices of interaction data\n",
        "sparse_train_ratings = interactions_list_to_sparse_matrix(train_ratings)\n",
        "sparse_test_ratings = interactions_list_to_sparse_matrix(test_ratings)"
      ],
      "execution_count": 0,
      "outputs": []
    },
    {
      "cell_type": "code",
      "metadata": {
        "id": "BiBTm3FfqFHz",
        "colab_type": "code",
        "colab": {}
      },
      "source": [
        "# Construct indicator features for users and items\n",
        "user_indicator_features = sc.sparse.identity(n_users)\n",
        "item_indicator_features = sc.sparse.identity(n_items)\n",
        "\n",
        "# Build a matrix factorization collaborative filter model\n",
        "cf_model = tf.te"
      ],
      "execution_count": 0,
      "outputs": []
    },
    {
      "cell_type": "code",
      "metadata": {
        "id": "EMWntY4_rqbZ",
        "colab_type": "code",
        "colab": {
          "base_uri": "https://localhost:8080/",
          "height": 52
        },
        "outputId": "424025c7-66b1-4c1f-adda-7dc556b2e56e"
      },
      "source": [
        ""
      ],
      "execution_count": 40,
      "outputs": [
        {
          "output_type": "execute_result",
          "data": {
            "text/plain": [
              "<610x610 sparse matrix of type '<class 'numpy.float64'>'\n",
              "\twith 610 stored elements (1 diagonals) in DIAgonal format>"
            ]
          },
          "metadata": {
            "tags": []
          },
          "execution_count": 40
        }
      ]
    }
  ]
}