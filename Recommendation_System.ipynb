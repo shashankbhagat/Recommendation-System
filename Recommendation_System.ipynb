{
  "nbformat": 4,
  "nbformat_minor": 0,
  "metadata": {
    "colab": {
      "name": "Recommendation_System.ipynb",
      "version": "0.3.2",
      "provenance": [],
      "collapsed_sections": [],
      "include_colab_link": true
    },
    "kernelspec": {
      "name": "python3",
      "display_name": "Python 3"
    }
  },
  "cells": [
    {
      "cell_type": "markdown",
      "metadata": {
        "id": "view-in-github",
        "colab_type": "text"
      },
      "source": [
        "<a href=\"https://colab.research.google.com/github/shashankbhagat/Recommendation-System/blob/master/Recommendation_System.ipynb\" target=\"_parent\"><img src=\"https://colab.research.google.com/assets/colab-badge.svg\" alt=\"Open In Colab\"/></a>"
      ]
    },
    {
      "cell_type": "code",
      "metadata": {
        "id": "TSG7Vo7MXFTJ",
        "colab_type": "code",
        "colab": {}
      },
      "source": [
        "import tensorflow as tf\n",
        "import csv\n",
        "from collections import defaultdict\n",
        "import random\n",
        "import scipy as sc\n",
        "import keras as ks\n",
        "import tensorrec\n",
        "#!pip install tensorrec\n",
        "from tensorrec.representation_graphs import (\n",
        "    AbstractKerasRepresentationGraph, NormalizedLinearRepresentationGraph, LinearRepresentationGraph\n",
        ")\n",
        "from tensorrec.util import append_to_string_at_point\n",
        "import logging\n",
        "logging.getLogger().setLevel(logging.INFO)"
      ],
      "execution_count": 0,
      "outputs": []
    },
    {
      "cell_type": "code",
      "metadata": {
        "id": "GBXkEopjXv8n",
        "colab_type": "code",
        "colab": {
          "base_uri": "https://localhost:8080/",
          "height": 35
        },
        "outputId": "a022d5d9-1be4-4881-ee13-7afa8edb9811"
      },
      "source": [
        "print('Loading Data')\n",
        "with open('ratings.csv') as ratings_file:\n",
        "    ratings_file_reader=csv.reader(ratings_file)\n",
        "    raw_ratings = list(ratings_file_reader)\n",
        "    raw_ratings_header = raw_ratings.pop(0)"
      ],
      "execution_count": 4,
      "outputs": [
        {
          "output_type": "stream",
          "text": [
            "Loading Data\n"
          ],
          "name": "stdout"
        }
      ]
    },
    {
      "cell_type": "code",
      "metadata": {
        "id": "TBKZ-hwKjhxo",
        "colab_type": "code",
        "colab": {}
      },
      "source": [
        "# Iterate through the input to map MovieLens IDs to new internal IDs\n",
        "# The new internal IDs will be created by the defaultdict on insertion\n",
        "\n",
        "movielens_to_internal_user_ids=defaultdict(lambda:len(movielens_to_internal_user_ids))\n",
        "movielens_to_internal_item_ids=defaultdict(lambda:len(movielens_to_internal_item_ids))\n",
        "for row in raw_ratings:\n",
        "    row[0] = movielens_to_internal_user_ids[int(row[0])]\n",
        "    row[1] = movielens_to_internal_item_ids[int(row[1])]\n",
        "    row[2]=float(row[2])\n",
        "n_users = len(movielens_to_internal_user_ids)\n",
        "n_items=len(movielens_to_internal_item_ids)"
      ],
      "execution_count": 0,
      "outputs": []
    },
    {
      "cell_type": "code",
      "metadata": {
        "id": "BsAooidDkvmm",
        "colab_type": "code",
        "colab": {}
      },
      "source": [
        "random.shuffle(raw_ratings)\n",
        "cutoff=int(0.8*len(raw_ratings))\n",
        "train_ratings=raw_ratings[:cutoff]\n",
        "test_ratings=raw_ratings[cutoff:]"
      ],
      "execution_count": 0,
      "outputs": []
    },
    {
      "cell_type": "code",
      "metadata": {
        "id": "VxbT0rULoqZG",
        "colab_type": "code",
        "colab": {}
      },
      "source": [
        "# This method converts a list of (user, item, rating, time) to a sparse matrix\n",
        "def interactions_list_to_sparse_matrix(interactions):\n",
        "    user_column,item_column, ratings_column, _ = zip(*interactions)\n",
        "    return sc.sparse.coo_matrix((ratings_column,(user_column,item_column)),shape=(n_users,n_items))\n",
        "\n",
        "# Create sparse matrices of interaction data\n",
        "sparse_train_ratings = interactions_list_to_sparse_matrix(train_ratings)\n",
        "sparse_test_ratings = interactions_list_to_sparse_matrix(test_ratings)"
      ],
      "execution_count": 0,
      "outputs": []
    },
    {
      "cell_type": "code",
      "metadata": {
        "id": "BiBTm3FfqFHz",
        "colab_type": "code",
        "colab": {
          "base_uri": "https://localhost:8080/",
          "height": 124
        },
        "outputId": "7b6f8326-9255-491e-f03a-7ecfc2adc777"
      },
      "source": [
        "# Construct indicator features for users and items\n",
        "user_indicator_features = sc.sparse.identity(n_users)\n",
        "item_indicator_features = sc.sparse.identity(n_items)\n",
        "\n",
        "# Build a matrix factorization collaborative filter model\n",
        "cf_model = tensorrec.TensorRec(n_components=5)\n",
        "\n",
        "#Fit the collaborative filter model\n",
        "print('Training collaborative filter')\n",
        "cf_model.fit(interactions=sparse_train_ratings,\n",
        "             user_features=user_indicator_features, \n",
        "             item_features=item_indicator_features)"
      ],
      "execution_count": 9,
      "outputs": [
        {
          "output_type": "stream",
          "text": [
            "Training collaborative filter\n"
          ],
          "name": "stdout"
        },
        {
          "output_type": "stream",
          "text": [
            "/usr/local/lib/python3.6/dist-packages/tensorflow/python/ops/gradients_util.py:93: UserWarning: Converting sparse IndexedSlices to a dense Tensor of unknown shape. This may consume a large amount of memory.\n",
            "  \"Converting sparse IndexedSlices to a dense Tensor of unknown shape. \"\n",
            "/usr/local/lib/python3.6/dist-packages/tensorflow/python/ops/gradients_util.py:93: UserWarning: Converting sparse IndexedSlices to a dense Tensor of unknown shape. This may consume a large amount of memory.\n",
            "  \"Converting sparse IndexedSlices to a dense Tensor of unknown shape. \"\n"
          ],
          "name": "stderr"
        }
      ]
    },
    {
      "cell_type": "code",
      "metadata": {
        "id": "EMWntY4_rqbZ",
        "colab_type": "code",
        "colab": {
          "base_uri": "https://localhost:8080/",
          "height": 52
        },
        "outputId": "000c5f8c-ea16-4692-ed71-30e729101f22"
      },
      "source": [
        "# Create sets of train/test interactions that are only ratings >= 4.0\n",
        "sparse_train_ratings_4plus=sparse_train_ratings.multiply(sparse_train_ratings>=4.0)\n",
        "sparse_test_ratings_4plus=sparse_test_ratings.multiply(sparse_test_ratings>=4.0)\n",
        "\n",
        "# This method consumes item ranks for each user and prints out recall@10 train/test metrics\n",
        "def check_results(ranks):\n",
        "    train_recall_at_10 = tensorrec.eval.recall_at_k(test_interactions=sparse_test_ratings_4plus,\n",
        "                                                    predicted_ranks=ranks,\n",
        "                                                   k=10).mean()\n",
        "    test_recall_at_10 = tensorrec.eval.recall_at_k(test_interactions=sparse_train_ratings_4plus,\n",
        "                                                    predicted_ranks=ranks,\n",
        "                                                   k=10).mean()\n",
        "    \n",
        "    print(\"Recall at 10: Train: {:.4f} Test: {:.4f}\".format(train_recall_at_10,test_recall_at_10))\n",
        "    \n",
        "#Check result of CF\n",
        "print(\"Matrix fatorization collaborative filter:\")\n",
        "predicted_ranks = cf_model.predict_rank(user_features=user_indicator_features,\n",
        "                                           item_features = item_indicator_features)\n",
        "check_results(predicted_ranks)    "
      ],
      "execution_count": 15,
      "outputs": [
        {
          "output_type": "stream",
          "text": [
            "Matrix fatorization collaborative filter:\n",
            "Recall at 10: Train: 0.0017 Test: 0.0008\n"
          ],
          "name": "stdout"
        }
      ]
    },
    {
      "cell_type": "code",
      "metadata": {
        "id": "zamRtsqT1ukw",
        "colab_type": "code",
        "colab": {
          "base_uri": "https://localhost:8080/",
          "height": 141
        },
        "outputId": "3007dd5b-bec1-4c28-bf10-7a6153df3283"
      },
      "source": [
        "#Another loss function: WMRB\n",
        "print('Training collaborative filter with WMRB loss')\n",
        "ranking_cf_model = tensorrec.TensorRec(n_components=5,loss_graph=tensorrec.loss_graphs.WMRBLossGraph())\n",
        "log_dir=\"/content/sample_data/log/\"\n",
        "\n",
        "ranking_cf_model.fit(interactions=sparse_train_ratings_4plus, user_features=user_indicator_features, item_features=item_indicator_features, n_sampled_items=int(n_items*.01))\n",
        "tensorboard_callback = tf.keras.callbacks.TensorBoard(log_dir=log_dir, histogram_freq=1,write_graph=True, write_images=True)\n",
        "\n",
        "\n",
        "#Check results of the WMRB Matrix Factorization CF model\n",
        "predicted_ranks = ranking_cf_model.predict_rank(user_features=user_indicator_features, \n",
        "                                                item_features=item_indicator_features)\n",
        "check_results(predicted_ranks)\n"
      ],
      "execution_count": 43,
      "outputs": [
        {
          "output_type": "stream",
          "text": [
            "Training collaborative filter with WMRB loss\n"
          ],
          "name": "stdout"
        },
        {
          "output_type": "stream",
          "text": [
            "/usr/local/lib/python3.6/dist-packages/tensorflow/python/ops/gradients_util.py:93: UserWarning: Converting sparse IndexedSlices to a dense Tensor of unknown shape. This may consume a large amount of memory.\n",
            "  \"Converting sparse IndexedSlices to a dense Tensor of unknown shape. \"\n",
            "/usr/local/lib/python3.6/dist-packages/tensorflow/python/ops/gradients_util.py:93: UserWarning: Converting sparse IndexedSlices to a dense Tensor of unknown shape. This may consume a large amount of memory.\n",
            "  \"Converting sparse IndexedSlices to a dense Tensor of unknown shape. \"\n"
          ],
          "name": "stderr"
        },
        {
          "output_type": "stream",
          "text": [
            "Recall at 10: Train: 0.0666 Test: 0.1070\n"
          ],
          "name": "stdout"
        }
      ]
    },
    {
      "cell_type": "code",
      "metadata": {
        "id": "bQ7dtxAP6Dhy",
        "colab_type": "code",
        "colab": {
          "base_uri": "https://localhost:8080/",
          "height": 35
        },
        "outputId": "e787f417-42ad-401e-f839-8eea4fd317ea"
      },
      "source": [
        "!tensorboard --logdir log_dir\n"
      ],
      "execution_count": 73,
      "outputs": [
        {
          "output_type": "stream",
          "text": [
            "TensorBoard 1.15.0a20190901 at http://a24e18582ab1:6006/ (Press CTRL+C to quit)\n"
          ],
          "name": "stdout"
        }
      ]
    },
    {
      "cell_type": "code",
      "metadata": {
        "id": "mNNWwLp3UwN8",
        "colab_type": "code",
        "colab": {}
      },
      "source": [
        "# Construct a Keras representation graph by inheriting tensorrec.representation_graphs.AbstractKerasRepresentationGraph\n",
        "class DeepRepresentationGraph(AbstractKerasRepresentationGraph):\n",
        "\n",
        "    # This method returns an ordered list of Keras layers connecting the user/item features to the user/item\n",
        "    # representation. When TensorRec learns, the learning will happen in these layers.\n",
        "    def create_layers(self, n_features, n_components):\n",
        "        return [\n",
        "            ks.layers.Dense(n_components * 16, activation='relu'),\n",
        "            ks.layers.Dense(n_components * 8, activation='relu'),\n",
        "            ks.layers.Dense(n_components * 2, activation='relu'),\n",
        "            ks.layers.Dense(n_components, activation='tanh'),\n",
        "        ]\n"
      ],
      "execution_count": 0,
      "outputs": []
    },
    {
      "cell_type": "code",
      "metadata": {
        "id": "R9Vib70nWwZ0",
        "colab_type": "code",
        "colab": {
          "base_uri": "https://localhost:8080/",
          "height": 1000
        },
        "outputId": "142a4195-3147-4e84-9d6c-23480eb6d8b2"
      },
      "source": [
        "# Build results header string\n",
        "result_strings = []\n",
        "header = \"UserRepr Graph\"\n",
        "header = append_to_string_at_point(header, 'ItemRepr Graph', 40)\n",
        "header = append_to_string_at_point(header, 'Rec. In-Sample', 70)\n",
        "header = append_to_string_at_point(header, 'Rec. Out-sample', 90)\n",
        "header = append_to_string_at_point(header, 'Prec. In-Sample', 110)\n",
        "header = append_to_string_at_point(header, 'Prec. Out-sample', 130)\n",
        "header = append_to_string_at_point(header, 'NDCG In-Sample', 150)\n",
        "header = append_to_string_at_point(header, 'NDCG Out-sample', 170)\n",
        "result_strings.append(header)\n",
        "\n",
        "for user_repr in (NormalizedLinearRepresentationGraph, DeepRepresentationGraph):\n",
        "    for item_repr in (LinearRepresentationGraph, DeepRepresentationGraph):\n",
        "        model = tensorrec.TensorRec(n_components=20,\n",
        "                          item_repr_graph=item_repr(),\n",
        "                          user_repr_graph=user_repr(),\n",
        "                          loss_graph=tensorrec.loss_graphs.BalancedWMRBLossGraph(),\n",
        "                          biased=False)\n",
        "        \n",
        "        tensorboard_callback = tf.keras.callbacks.TensorBoard(log_dir=log_dir, histogram_freq=1,write_graph=True, write_images=True)\n",
        "        #tensorboard_callback.set_model(model)\n",
        "\n",
        "        # Fit the model and get a result packet\n",
        "        fit_kwargs = {'epochs': 5, 'learning_rate': .01, 'n_sampled_items': 100, 'verbose': True}\n",
        "        result = tensorrec.eval.fit_and_eval(model, user_indicator_features, item_indicator_features, sparse_train_ratings_4plus, sparse_test_ratings_4plus, fit_kwargs,\n",
        "                              recall_k=100, precision_k=100, ndcg_k=100)\n",
        "        \n",
        "        # Build results row for this configuration\n",
        "        res_string = \"{}\".format(user_repr.__name__)\n",
        "        res_string = append_to_string_at_point(res_string, item_repr.__name__, 40)\n",
        "        res_string = append_to_string_at_point(res_string, \": {:0.4f}\".format(result[3]), 68)\n",
        "        res_string = append_to_string_at_point(res_string, \"{:0.4f}\".format(result[0]), 90)\n",
        "        res_string = append_to_string_at_point(res_string, \"{:0.4f}\".format(result[4]), 110)\n",
        "        res_string = append_to_string_at_point(res_string, \"{:0.4f}\".format(result[1]), 130)\n",
        "        res_string = append_to_string_at_point(res_string, \"{:0.4f}\".format(result[5]), 150)\n",
        "        res_string = append_to_string_at_point(res_string, \"{:0.4f}\".format(result[2]), 170)\n",
        "        logging.info(header)\n",
        "        logging.info(res_string)\n",
        "        result_strings.append(res_string)\n",
        "\n",
        "# Log the final results of all models\n",
        "for res_string in result_strings:\n",
        "    logging.info(res_string)"
      ],
      "execution_count": 90,
      "outputs": [
        {
          "output_type": "stream",
          "text": [
            "I0902 08:53:06.913445 139946425325440 tensorrec.py:587] Processing interaction and feature data\n",
            "/usr/local/lib/python3.6/dist-packages/tensorflow/python/ops/gradients_util.py:93: UserWarning: Converting sparse IndexedSlices to a dense Tensor of unknown shape. This may consume a large amount of memory.\n",
            "  \"Converting sparse IndexedSlices to a dense Tensor of unknown shape. \"\n",
            "I0902 08:53:14.508519 139946425325440 tensorrec.py:615] Beginning fitting\n",
            "I0902 08:53:15.750882 139946425325440 tensorrec.py:633] EPOCH 0 BATCH 0 loss = 6.277060031890869, weight_reg_l2_loss = 0.05167000000000001, mean_pred = 0.0009051727829501033\n",
            "I0902 08:53:16.011991 139946425325440 tensorrec.py:633] EPOCH 1 BATCH 0 loss = 6.265364646911621, weight_reg_l2_loss = 0.0512474609375, mean_pred = 0.011366836726665497\n",
            "I0902 08:53:16.275081 139946425325440 tensorrec.py:633] EPOCH 2 BATCH 0 loss = 6.251622676849365, weight_reg_l2_loss = 0.050943774414062504, mean_pred = 0.021836882457137108\n",
            "I0902 08:53:16.537211 139946425325440 tensorrec.py:633] EPOCH 3 BATCH 0 loss = 6.239343643188477, weight_reg_l2_loss = 0.05072200683593751, mean_pred = 0.03230461850762367\n",
            "I0902 08:53:16.801071 139946425325440 tensorrec.py:633] EPOCH 4 BATCH 0 loss = 6.22565221786499, weight_reg_l2_loss = 0.05056660156250001, mean_pred = 0.0428386814892292\n",
            "/usr/local/lib/python3.6/dist-packages/tensorrec/eval.py:111: RuntimeWarning: invalid value encountered in true_divide\n",
            "  ndcg = dcg/idcg\n",
            "/usr/local/lib/python3.6/dist-packages/tensorrec/eval.py:111: RuntimeWarning: invalid value encountered in true_divide\n",
            "  ndcg = dcg/idcg\n",
            "I0902 08:53:20.089787 139946425325440 <ipython-input-90-c4f49fe740ca>:37] UserRepr Graph                          ItemRepr Graph                Rec. In-Sample      Rec. Out-sample     Prec. In-Sample     Prec. Out-sample    NDCG In-Sample      NDCG Out-sample\n",
            "I0902 08:53:20.090755 139946425325440 <ipython-input-90-c4f49fe740ca>:38] NormalizedLinearRepresentationGraph     LinearRepresentationGraph   : 0.0438              0.0185              0.0220              0.0027              0.0913              0.0110\n",
            "I0902 08:53:20.101339 139946425325440 tensorrec.py:587] Processing interaction and feature data\n",
            "/usr/local/lib/python3.6/dist-packages/tensorflow/python/ops/gradients_util.py:93: UserWarning: Converting sparse IndexedSlices to a dense Tensor of unknown shape. This may consume a large amount of memory.\n",
            "  \"Converting sparse IndexedSlices to a dense Tensor of unknown shape. \"\n",
            "I0902 08:53:28.027176 139946425325440 tensorrec.py:615] Beginning fitting\n",
            "I0902 08:53:29.423671 139946425325440 tensorrec.py:633] EPOCH 0 BATCH 0 loss = 6.304195880889893, weight_reg_l2_loss = 0.007661270751953126, mean_pred = -0.00018082365568261594\n",
            "I0902 08:53:29.793521 139946425325440 tensorrec.py:633] EPOCH 1 BATCH 0 loss = 6.298676490783691, weight_reg_l2_loss = 0.006978370361328126, mean_pred = 0.006403991486877203\n",
            "I0902 08:53:30.155678 139946425325440 tensorrec.py:633] EPOCH 2 BATCH 0 loss = 6.273349761962891, weight_reg_l2_loss = 0.007715567626953125, mean_pred = 0.030188070610165596\n",
            "I0902 08:53:30.525266 139946425325440 tensorrec.py:633] EPOCH 3 BATCH 0 loss = 6.2033891677856445, weight_reg_l2_loss = 0.009192704467773437, mean_pred = 0.08702704310417175\n",
            "I0902 08:53:30.887903 139946425325440 tensorrec.py:633] EPOCH 4 BATCH 0 loss = 6.019325256347656, weight_reg_l2_loss = 0.011006105957031252, mean_pred = 0.1798599660396576\n",
            "/usr/local/lib/python3.6/dist-packages/tensorrec/eval.py:111: RuntimeWarning: invalid value encountered in true_divide\n",
            "  ndcg = dcg/idcg\n",
            "/usr/local/lib/python3.6/dist-packages/tensorrec/eval.py:111: RuntimeWarning: invalid value encountered in true_divide\n",
            "  ndcg = dcg/idcg\n",
            "I0902 08:53:34.178687 139946425325440 <ipython-input-90-c4f49fe740ca>:37] UserRepr Graph                          ItemRepr Graph                Rec. In-Sample      Rec. Out-sample     Prec. In-Sample     Prec. Out-sample    NDCG In-Sample      NDCG Out-sample\n",
            "I0902 08:53:34.179631 139946425325440 <ipython-input-90-c4f49fe740ca>:38] NormalizedLinearRepresentationGraph     DeepRepresentationGraph     : 0.1238              0.0527              0.0761              0.0064              0.2771              0.0294\n",
            "I0902 08:53:34.188338 139946425325440 tensorrec.py:587] Processing interaction and feature data\n",
            "/usr/local/lib/python3.6/dist-packages/tensorflow/python/ops/gradients_util.py:93: UserWarning: Converting sparse IndexedSlices to a dense Tensor of unknown shape. This may consume a large amount of memory.\n",
            "  \"Converting sparse IndexedSlices to a dense Tensor of unknown shape. \"\n",
            "I0902 08:53:42.601670 139946425325440 tensorrec.py:615] Beginning fitting\n",
            "I0902 08:53:43.942727 139946425325440 tensorrec.py:633] EPOCH 0 BATCH 0 loss = 6.304196357727051, weight_reg_l2_loss = 0.05224342773437501, mean_pred = -8.418703509960324e-05\n",
            "I0902 08:53:44.213671 139946425325440 tensorrec.py:633] EPOCH 1 BATCH 0 loss = 6.268616199493408, weight_reg_l2_loss = 0.049489208984375005, mean_pred = 0.02084858901798725\n",
            "I0902 08:53:44.494144 139946425325440 tensorrec.py:633] EPOCH 2 BATCH 0 loss = 6.078302383422852, weight_reg_l2_loss = 0.048373271484375, mean_pred = 0.09379728138446808\n",
            "I0902 08:53:44.772850 139946425325440 tensorrec.py:633] EPOCH 3 BATCH 0 loss = 5.794412136077881, weight_reg_l2_loss = 0.048213115234375006, mean_pred = 0.2311890423297882\n",
            "I0902 08:53:45.049184 139946425325440 tensorrec.py:633] EPOCH 4 BATCH 0 loss = 5.564232349395752, weight_reg_l2_loss = 0.0484508349609375, mean_pred = 0.38581544160842896\n",
            "/usr/local/lib/python3.6/dist-packages/tensorrec/eval.py:111: RuntimeWarning: invalid value encountered in true_divide\n",
            "  ndcg = dcg/idcg\n",
            "/usr/local/lib/python3.6/dist-packages/tensorrec/eval.py:111: RuntimeWarning: invalid value encountered in true_divide\n",
            "  ndcg = dcg/idcg\n",
            "I0902 08:53:48.479840 139946425325440 <ipython-input-90-c4f49fe740ca>:37] UserRepr Graph                          ItemRepr Graph                Rec. In-Sample      Rec. Out-sample     Prec. In-Sample     Prec. Out-sample    NDCG In-Sample      NDCG Out-sample\n",
            "I0902 08:53:48.480726 139946425325440 <ipython-input-90-c4f49fe740ca>:38] DeepRepresentationGraph                 LinearRepresentationGraph   : 0.0535              0.0495              0.0294              0.0073              0.0999              0.0301\n",
            "I0902 08:53:48.491951 139946425325440 tensorrec.py:587] Processing interaction and feature data\n",
            "/usr/local/lib/python3.6/dist-packages/tensorflow/python/ops/gradients_util.py:93: UserWarning: Converting sparse IndexedSlices to a dense Tensor of unknown shape. This may consume a large amount of memory.\n",
            "  \"Converting sparse IndexedSlices to a dense Tensor of unknown shape. \"\n",
            "I0902 08:53:58.028497 139946425325440 tensorrec.py:615] Beginning fitting\n",
            "I0902 08:53:59.579120 139946425325440 tensorrec.py:633] EPOCH 0 BATCH 0 loss = 6.304242134094238, weight_reg_l2_loss = 0.008242134399414063, mean_pred = -2.21685095311841e-05\n",
            "I0902 08:53:59.962291 139946425325440 tensorrec.py:633] EPOCH 1 BATCH 0 loss = 6.298933029174805, weight_reg_l2_loss = 0.0058182421875, mean_pred = 0.006578686181455851\n",
            "I0902 08:54:00.352385 139946425325440 tensorrec.py:633] EPOCH 2 BATCH 0 loss = 6.102321147918701, weight_reg_l2_loss = 0.005591494750976563, mean_pred = 0.08347252011299133\n",
            "I0902 08:54:00.748978 139946425325440 tensorrec.py:633] EPOCH 3 BATCH 0 loss = 4.8513665199279785, weight_reg_l2_loss = 0.006611896972656251, mean_pred = 1.1360355615615845\n",
            "I0902 08:54:01.153246 139946425325440 tensorrec.py:633] EPOCH 4 BATCH 0 loss = 4.484907627105713, weight_reg_l2_loss = 0.008001057128906251, mean_pred = 3.328249931335449\n",
            "/usr/local/lib/python3.6/dist-packages/tensorrec/eval.py:111: RuntimeWarning: invalid value encountered in true_divide\n",
            "  ndcg = dcg/idcg\n",
            "/usr/local/lib/python3.6/dist-packages/tensorrec/eval.py:111: RuntimeWarning: invalid value encountered in true_divide\n",
            "  ndcg = dcg/idcg\n",
            "I0902 08:54:04.691703 139946425325440 <ipython-input-90-c4f49fe740ca>:37] UserRepr Graph                          ItemRepr Graph                Rec. In-Sample      Rec. Out-sample     Prec. In-Sample     Prec. Out-sample    NDCG In-Sample      NDCG Out-sample\n",
            "I0902 08:54:04.692643 139946425325440 <ipython-input-90-c4f49fe740ca>:38] DeepRepresentationGraph                 DeepRepresentationGraph     : 0.1656              0.1459              0.0853              0.0215              0.3004              0.0937\n",
            "I0902 08:54:04.697968 139946425325440 <ipython-input-90-c4f49fe740ca>:43] UserRepr Graph                          ItemRepr Graph                Rec. In-Sample      Rec. Out-sample     Prec. In-Sample     Prec. Out-sample    NDCG In-Sample      NDCG Out-sample\n",
            "I0902 08:54:04.699745 139946425325440 <ipython-input-90-c4f49fe740ca>:43] NormalizedLinearRepresentationGraph     LinearRepresentationGraph   : 0.0438              0.0185              0.0220              0.0027              0.0913              0.0110\n",
            "I0902 08:54:04.704296 139946425325440 <ipython-input-90-c4f49fe740ca>:43] NormalizedLinearRepresentationGraph     DeepRepresentationGraph     : 0.1238              0.0527              0.0761              0.0064              0.2771              0.0294\n",
            "I0902 08:54:04.706851 139946425325440 <ipython-input-90-c4f49fe740ca>:43] DeepRepresentationGraph                 LinearRepresentationGraph   : 0.0535              0.0495              0.0294              0.0073              0.0999              0.0301\n",
            "I0902 08:54:04.707974 139946425325440 <ipython-input-90-c4f49fe740ca>:43] DeepRepresentationGraph                 DeepRepresentationGraph     : 0.1656              0.1459              0.0853              0.0215              0.3004              0.0937\n"
          ],
          "name": "stderr"
        }
      ]
    },
    {
      "cell_type": "markdown",
      "metadata": {
        "id": "_kmx8KxYK4kY",
        "colab_type": "text"
      },
      "source": [
        ""
      ]
    },
    {
      "cell_type": "code",
      "metadata": {
        "id": "NiXOaRaQGj0b",
        "colab_type": "code",
        "colab": {
          "base_uri": "https://localhost:8080/",
          "height": 488
        },
        "outputId": "2810ce6f-3620-4580-ca8f-9e9569d0e725"
      },
      "source": [
        "!tensorboard --logdir log_dir"
      ],
      "execution_count": 91,
      "outputs": [
        {
          "output_type": "stream",
          "text": [
            "TensorBoard 1.15.0a20190901 at http://a24e18582ab1:6006/ (Press CTRL+C to quit)\n",
            "Traceback (most recent call last):\n",
            "  File \"/usr/local/lib/python3.6/dist-packages/werkzeug/serving.py\", line 734, in serve_forever\n",
            "    HTTPServer.serve_forever(self)\n",
            "  File \"/usr/lib/python3.6/socketserver.py\", line 236, in serve_forever\n",
            "    ready = selector.select(poll_interval)\n",
            "  File \"/usr/lib/python3.6/selectors.py\", line 376, in select\n",
            "    fd_event_list = self._poll.poll(timeout)\n",
            "KeyboardInterrupt\n",
            "\n",
            "During handling of the above exception, another exception occurred:\n",
            "\n",
            "Traceback (most recent call last):\n",
            "  File \"/usr/local/bin/tensorboard\", line 10, in <module>\n",
            "    sys.exit(run_main())\n",
            "  File \"/usr/local/lib/python3.6/dist-packages/tensorboard/main.py\", line 64, in run_main\n",
            "    app.run(tensorboard.main, flags_parser=tensorboard.configure)\n",
            "  File \"/usr/local/lib/python3.6/dist-packages/absl/app.py\", line 300, in run\n",
            "    _run_main(main, args)\n",
            "  File \"/usr/local/lib/python3.6/dist-packages/absl/app.py\", line 251, in _run_main\n",
            "    sys.exit(main(argv))\n",
            "  File \"/usr/local/lib/python3.6/dist-packages/tensorboard/program.py\", line 225, in main\n",
            "    server.serve_forever()\n",
            "  File \"/usr/local/lib/python3.6/dist-packages/werkzeug/serving.py\", line 734, in serve_forever\n",
            "    HTTPServer.serve_forever(self)\n",
            "KeyboardInterrupt\n"
          ],
          "name": "stdout"
        }
      ]
    },
    {
      "cell_type": "code",
      "metadata": {
        "id": "YF6Xq0_ZJ_g9",
        "colab_type": "code",
        "colab": {
          "base_uri": "https://localhost:8080/",
          "height": 166
        },
        "outputId": "a5bd74b3-e801-49ca-a3e1-4dd059b7e358"
      },
      "source": [
        ""
      ],
      "execution_count": 93,
      "outputs": [
        {
          "output_type": "error",
          "ename": "TypeError",
          "evalue": "ignored",
          "traceback": [
            "\u001b[0;31m---------------------------------------------------------------------------\u001b[0m",
            "\u001b[0;31mTypeError\u001b[0m                                 Traceback (most recent call last)",
            "\u001b[0;32m<ipython-input-93-35952ead3545>\u001b[0m in \u001b[0;36m<module>\u001b[0;34m()\u001b[0m\n\u001b[0;32m----> 1\u001b[0;31m \u001b[0mlogging\u001b[0m\u001b[0;34m.\u001b[0m\u001b[0mlog\u001b[0m\u001b[0;34m(\u001b[0m\u001b[0;34m)\u001b[0m\u001b[0;34m\u001b[0m\u001b[0;34m\u001b[0m\u001b[0m\n\u001b[0m",
            "\u001b[0;31mTypeError\u001b[0m: log() missing 2 required positional arguments: 'level' and 'msg'"
          ]
        }
      ]
    }
  ]
}