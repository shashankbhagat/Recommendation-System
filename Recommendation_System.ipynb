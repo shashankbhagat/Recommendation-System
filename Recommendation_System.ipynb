{
  "nbformat": 4,
  "nbformat_minor": 0,
  "metadata": {
    "colab": {
      "name": "Recommendation_System.ipynb",
      "version": "0.3.2",
      "provenance": [],
      "collapsed_sections": [],
      "include_colab_link": true
    },
    "kernelspec": {
      "name": "python3",
      "display_name": "Python 3"
    }
  },
  "cells": [
    {
      "cell_type": "markdown",
      "metadata": {
        "id": "view-in-github",
        "colab_type": "text"
      },
      "source": [
        "<a href=\"https://colab.research.google.com/github/shashankbhagat/Recommendation-System/blob/master/Recommendation_System.ipynb\" target=\"_parent\"><img src=\"https://colab.research.google.com/assets/colab-badge.svg\" alt=\"Open In Colab\"/></a>"
      ]
    },
    {
      "cell_type": "code",
      "metadata": {
        "id": "TSG7Vo7MXFTJ",
        "colab_type": "code",
        "colab": {}
      },
      "source": [
        "import tensorflow as tf\n",
        "import csv\n",
        "from collections import defaultdict\n",
        "import random\n",
        "import scipy as sc\n",
        "import tensorflow as tf\n",
        "import tensorrec\n",
        "#!pip install tensorrec"
      ],
      "execution_count": 0,
      "outputs": []
    },
    {
      "cell_type": "code",
      "metadata": {
        "id": "GBXkEopjXv8n",
        "colab_type": "code",
        "colab": {
          "base_uri": "https://localhost:8080/",
          "height": 35
        },
        "outputId": "a022d5d9-1be4-4881-ee13-7afa8edb9811"
      },
      "source": [
        "print('Loading Data')\n",
        "with open('ratings.csv') as ratings_file:\n",
        "    ratings_file_reader=csv.reader(ratings_file)\n",
        "    raw_ratings = list(ratings_file_reader)\n",
        "    raw_ratings_header = raw_ratings.pop(0)"
      ],
      "execution_count": 4,
      "outputs": [
        {
          "output_type": "stream",
          "text": [
            "Loading Data\n"
          ],
          "name": "stdout"
        }
      ]
    },
    {
      "cell_type": "code",
      "metadata": {
        "id": "TBKZ-hwKjhxo",
        "colab_type": "code",
        "colab": {}
      },
      "source": [
        "# Iterate through the input to map MovieLens IDs to new internal IDs\n",
        "# The new internal IDs will be created by the defaultdict on insertion\n",
        "\n",
        "movielens_to_internal_user_ids=defaultdict(lambda:len(movielens_to_internal_user_ids))\n",
        "movielens_to_internal_item_ids=defaultdict(lambda:len(movielens_to_internal_item_ids))\n",
        "for row in raw_ratings:\n",
        "    row[0] = movielens_to_internal_user_ids[int(row[0])]\n",
        "    row[1] = movielens_to_internal_item_ids[int(row[1])]\n",
        "    row[2]=float(row[2])\n",
        "n_users = len(movielens_to_internal_user_ids)\n",
        "n_items=len(movielens_to_internal_item_ids)"
      ],
      "execution_count": 0,
      "outputs": []
    },
    {
      "cell_type": "code",
      "metadata": {
        "id": "BsAooidDkvmm",
        "colab_type": "code",
        "colab": {}
      },
      "source": [
        "random.shuffle(raw_ratings)\n",
        "cutoff=int(0.8*len(raw_ratings))\n",
        "train_ratings=raw_ratings[:cutoff]\n",
        "test_ratings=raw_ratings[cutoff:]"
      ],
      "execution_count": 0,
      "outputs": []
    },
    {
      "cell_type": "code",
      "metadata": {
        "id": "VxbT0rULoqZG",
        "colab_type": "code",
        "colab": {}
      },
      "source": [
        "# This method converts a list of (user, item, rating, time) to a sparse matrix\n",
        "def interactions_list_to_sparse_matrix(interactions):\n",
        "    user_column,item_column, ratings_column, _ = zip(*interactions)\n",
        "    return sc.sparse.coo_matrix((ratings_column,(user_column,item_column)),shape=(n_users,n_items))\n",
        "\n",
        "# Create sparse matrices of interaction data\n",
        "sparse_train_ratings = interactions_list_to_sparse_matrix(train_ratings)\n",
        "sparse_test_ratings = interactions_list_to_sparse_matrix(test_ratings)"
      ],
      "execution_count": 0,
      "outputs": []
    },
    {
      "cell_type": "code",
      "metadata": {
        "id": "BiBTm3FfqFHz",
        "colab_type": "code",
        "colab": {
          "base_uri": "https://localhost:8080/",
          "height": 126
        },
        "outputId": "7b6f8326-9255-491e-f03a-7ecfc2adc777"
      },
      "source": [
        "# Construct indicator features for users and items\n",
        "user_indicator_features = sc.sparse.identity(n_users)\n",
        "item_indicator_features = sc.sparse.identity(n_items)\n",
        "\n",
        "# Build a matrix factorization collaborative filter model\n",
        "cf_model = tensorrec.TensorRec(n_components=5)\n",
        "\n",
        "#Fit the collaborative filter model\n",
        "print('Training collaborative filter')\n",
        "cf_model.fit(interactions=sparse_train_ratings,\n",
        "             user_features=user_indicator_features, \n",
        "             item_features=item_indicator_features)"
      ],
      "execution_count": 9,
      "outputs": [
        {
          "output_type": "stream",
          "text": [
            "Training collaborative filter\n"
          ],
          "name": "stdout"
        },
        {
          "output_type": "stream",
          "text": [
            "/usr/local/lib/python3.6/dist-packages/tensorflow/python/ops/gradients_util.py:93: UserWarning: Converting sparse IndexedSlices to a dense Tensor of unknown shape. This may consume a large amount of memory.\n",
            "  \"Converting sparse IndexedSlices to a dense Tensor of unknown shape. \"\n",
            "/usr/local/lib/python3.6/dist-packages/tensorflow/python/ops/gradients_util.py:93: UserWarning: Converting sparse IndexedSlices to a dense Tensor of unknown shape. This may consume a large amount of memory.\n",
            "  \"Converting sparse IndexedSlices to a dense Tensor of unknown shape. \"\n"
          ],
          "name": "stderr"
        }
      ]
    },
    {
      "cell_type": "code",
      "metadata": {
        "id": "EMWntY4_rqbZ",
        "colab_type": "code",
        "colab": {
          "base_uri": "https://localhost:8080/",
          "height": 52
        },
        "outputId": "000c5f8c-ea16-4692-ed71-30e729101f22"
      },
      "source": [
        "# Create sets of train/test interactions that are only ratings >= 4.0\n",
        "sparse_train_ratings_4plus=sparse_train_ratings.multiply(sparse_train_ratings>=4.0)\n",
        "sparse_test_ratings_4plus=sparse_test_ratings.multiply(sparse_test_ratings>=4.0)\n",
        "\n",
        "# This method consumes item ranks for each user and prints out recall@10 train/test metrics\n",
        "def check_results(ranks):\n",
        "    train_recall_at_10 = tensorrec.eval.recall_at_k(test_interactions=sparse_test_ratings_4plus,\n",
        "                                                    predicted_ranks=ranks,\n",
        "                                                   k=10).mean()\n",
        "    test_recall_at_10 = tensorrec.eval.recall_at_k(test_interactions=sparse_train_ratings_4plus,\n",
        "                                                    predicted_ranks=ranks,\n",
        "                                                   k=10).mean()\n",
        "    \n",
        "    print(\"Recall at 10: Train: {:.4f} Test: {:.4f}\".format(train_recall_at_10,test_recall_at_10))\n",
        "    \n",
        "#Check result of CF\n",
        "print(\"Matrix fatorization collaborative filter:\")\n",
        "predicted_ranks = cf_model.predict_rank(user_features=user_indicator_features,\n",
        "                                           item_features = item_indicator_features)\n",
        "check_results(predicted_ranks)    "
      ],
      "execution_count": 15,
      "outputs": [
        {
          "output_type": "stream",
          "text": [
            "Matrix fatorization collaborative filter:\n",
            "Recall at 10: Train: 0.0017 Test: 0.0008\n"
          ],
          "name": "stdout"
        }
      ]
    },
    {
      "cell_type": "code",
      "metadata": {
        "id": "zamRtsqT1ukw",
        "colab_type": "code",
        "colab": {
          "base_uri": "https://localhost:8080/",
          "height": 141
        },
        "outputId": "b8d8d8a5-735f-4072-919e-18a1b5f43396"
      },
      "source": [
        "#Another loss function: WMRB\n",
        "print('Training collaborative filter with WMRB loss')\n",
        "ranking_cf_model = tensorrec.TensorRec(n_components=5,loss_graph=tensorrec.loss_graphs.WMRBLossGraph())\n",
        "ranking_cf_model.fit(interactions=sparse_train_ratings_4plus, user_features=user_indicator_features, item_features=item_indicator_features, n_sampled_items=int(n_items*.01))\n",
        "\n",
        "#Check results of the WMRB Matrix Factorization CF model\n",
        "predicted_ranks = ranking_cf_model.predict_rank(user_features=user_indicator_features, \n",
        "                                                item_features=item_indicator_features)\n",
        "check_results(predicted_ranks)\n"
      ],
      "execution_count": 20,
      "outputs": [
        {
          "output_type": "stream",
          "text": [
            "Training collaborative filter with WMRB loss\n"
          ],
          "name": "stdout"
        },
        {
          "output_type": "stream",
          "text": [
            "/usr/local/lib/python3.6/dist-packages/tensorflow/python/ops/gradients_util.py:93: UserWarning: Converting sparse IndexedSlices to a dense Tensor of unknown shape. This may consume a large amount of memory.\n",
            "  \"Converting sparse IndexedSlices to a dense Tensor of unknown shape. \"\n",
            "/usr/local/lib/python3.6/dist-packages/tensorflow/python/ops/gradients_util.py:93: UserWarning: Converting sparse IndexedSlices to a dense Tensor of unknown shape. This may consume a large amount of memory.\n",
            "  \"Converting sparse IndexedSlices to a dense Tensor of unknown shape. \"\n"
          ],
          "name": "stderr"
        },
        {
          "output_type": "stream",
          "text": [
            "Recall at 10: Train: 0.0822 Test: 0.1223\n"
          ],
          "name": "stdout"
        }
      ]
    },
    {
      "cell_type": "code",
      "metadata": {
        "id": "bQ7dtxAP6Dhy",
        "colab_type": "code",
        "colab": {}
      },
      "source": [
        ""
      ],
      "execution_count": 0,
      "outputs": []
    }
  ]
}