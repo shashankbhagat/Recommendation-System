{
  "nbformat": 4,
  "nbformat_minor": 0,
  "metadata": {
    "colab": {
      "name": "Recommendation_System.ipynb",
      "version": "0.3.2",
      "provenance": [],
      "collapsed_sections": [],
      "include_colab_link": true
    },
    "kernelspec": {
      "name": "python3",
      "display_name": "Python 3"
    }
  },
  "cells": [
    {
      "cell_type": "markdown",
      "metadata": {
        "id": "view-in-github",
        "colab_type": "text"
      },
      "source": [
        "<a href=\"https://colab.research.google.com/github/shashankbhagat/Recommendation-System/blob/master/Recommendation_System.ipynb\" target=\"_parent\"><img src=\"https://colab.research.google.com/assets/colab-badge.svg\" alt=\"Open In Colab\"/></a>"
      ]
    },
    {
      "cell_type": "code",
      "metadata": {
        "id": "TSG7Vo7MXFTJ",
        "colab_type": "code",
        "colab": {}
      },
      "source": [
        "import tensorflow as tf\n",
        "import csv\n",
        "from collections import defaultdict\n",
        "import random\n",
        "import scipy as sc\n",
        "import keras as ks\n",
        "import tensorrec\n",
        "#!pip install tensorrec\n",
        "from tensorrec.representation_graphs import (\n",
        "    AbstractKerasRepresentationGraph, NormalizedLinearRepresentationGraph, LinearRepresentationGraph\n",
        ")\n",
        "from tensorrec.util import append_to_string_at_point\n",
        "import logging\n",
        "#logging.getLogger().setLevel(logging.INFO)\n",
        "logging.basicConfig(level=logging.INFO, filename=log_dir+'abc.txt')"
      ],
      "execution_count": 0,
      "outputs": []
    },
    {
      "cell_type": "code",
      "metadata": {
        "id": "GBXkEopjXv8n",
        "colab_type": "code",
        "colab": {
          "base_uri": "https://localhost:8080/",
          "height": 35
        },
        "outputId": "ec47b50c-eddd-4133-b590-b1475cd2051d"
      },
      "source": [
        "print('Loading Data')\n",
        "with open('ratings.csv') as ratings_file:\n",
        "    ratings_file_reader=csv.reader(ratings_file)\n",
        "    raw_ratings = list(ratings_file_reader)\n",
        "    raw_ratings_header = raw_ratings.pop(0)"
      ],
      "execution_count": 3,
      "outputs": [
        {
          "output_type": "stream",
          "text": [
            "Loading Data\n"
          ],
          "name": "stdout"
        }
      ]
    },
    {
      "cell_type": "code",
      "metadata": {
        "id": "TBKZ-hwKjhxo",
        "colab_type": "code",
        "colab": {}
      },
      "source": [
        "# Iterate through the input to map MovieLens IDs to new internal IDs\n",
        "# The new internal IDs will be created by the defaultdict on insertion\n",
        "\n",
        "movielens_to_internal_user_ids=defaultdict(lambda:len(movielens_to_internal_user_ids))\n",
        "movielens_to_internal_item_ids=defaultdict(lambda:len(movielens_to_internal_item_ids))\n",
        "for row in raw_ratings:\n",
        "    row[0] = movielens_to_internal_user_ids[int(row[0])]\n",
        "    row[1] = movielens_to_internal_item_ids[int(row[1])]\n",
        "    row[2]=float(row[2])\n",
        "n_users = len(movielens_to_internal_user_ids)\n",
        "n_items=len(movielens_to_internal_item_ids)"
      ],
      "execution_count": 0,
      "outputs": []
    },
    {
      "cell_type": "code",
      "metadata": {
        "id": "BsAooidDkvmm",
        "colab_type": "code",
        "colab": {}
      },
      "source": [
        "random.shuffle(raw_ratings)\n",
        "cutoff=int(0.8*len(raw_ratings))\n",
        "train_ratings=raw_ratings[:cutoff]\n",
        "test_ratings=raw_ratings[cutoff:]"
      ],
      "execution_count": 0,
      "outputs": []
    },
    {
      "cell_type": "code",
      "metadata": {
        "id": "VxbT0rULoqZG",
        "colab_type": "code",
        "colab": {}
      },
      "source": [
        "# This method converts a list of (user, item, rating, time) to a sparse matrix\n",
        "def interactions_list_to_sparse_matrix(interactions):\n",
        "    user_column,item_column, ratings_column, _ = zip(*interactions)\n",
        "    return sc.sparse.coo_matrix((ratings_column,(user_column,item_column)),shape=(n_users,n_items))\n",
        "\n",
        "# Create sparse matrices of interaction data\n",
        "sparse_train_ratings = interactions_list_to_sparse_matrix(train_ratings)\n",
        "sparse_test_ratings = interactions_list_to_sparse_matrix(test_ratings)"
      ],
      "execution_count": 0,
      "outputs": []
    },
    {
      "cell_type": "code",
      "metadata": {
        "id": "BiBTm3FfqFHz",
        "colab_type": "code",
        "colab": {
          "base_uri": "https://localhost:8080/",
          "height": 124
        },
        "outputId": "ac43a6e4-9d31-4dfc-d2fd-aab3bc09ff68"
      },
      "source": [
        "# Construct indicator features for users and items\n",
        "user_indicator_features = sc.sparse.identity(n_users)\n",
        "item_indicator_features = sc.sparse.identity(n_items)\n",
        "\n",
        "# Build a matrix factorization collaborative filter model\n",
        "cf_model = tensorrec.TensorRec(n_components=5)\n",
        "\n",
        "#Fit the collaborative filter model\n",
        "print('Training collaborative filter')\n",
        "cf_model.fit(interactions=sparse_train_ratings,\n",
        "             user_features=user_indicator_features, \n",
        "             item_features=item_indicator_features)"
      ],
      "execution_count": 11,
      "outputs": [
        {
          "output_type": "stream",
          "text": [
            "Training collaborative filter\n"
          ],
          "name": "stdout"
        },
        {
          "output_type": "stream",
          "text": [
            "/usr/local/lib/python3.6/dist-packages/tensorflow/python/ops/gradients_util.py:93: UserWarning: Converting sparse IndexedSlices to a dense Tensor of unknown shape. This may consume a large amount of memory.\n",
            "  \"Converting sparse IndexedSlices to a dense Tensor of unknown shape. \"\n",
            "/usr/local/lib/python3.6/dist-packages/tensorflow/python/ops/gradients_util.py:93: UserWarning: Converting sparse IndexedSlices to a dense Tensor of unknown shape. This may consume a large amount of memory.\n",
            "  \"Converting sparse IndexedSlices to a dense Tensor of unknown shape. \"\n"
          ],
          "name": "stderr"
        }
      ]
    },
    {
      "cell_type": "code",
      "metadata": {
        "id": "EMWntY4_rqbZ",
        "colab_type": "code",
        "colab": {
          "base_uri": "https://localhost:8080/",
          "height": 52
        },
        "outputId": "56a54764-ba3b-44c7-9a3c-abeedb431220"
      },
      "source": [
        "# Create sets of train/test interactions that are only ratings >= 4.0\n",
        "sparse_train_ratings_4plus=sparse_train_ratings.multiply(sparse_train_ratings>=4.0)\n",
        "sparse_test_ratings_4plus=sparse_test_ratings.multiply(sparse_test_ratings>=4.0)\n",
        "\n",
        "# This method consumes item ranks for each user and prints out recall@10 train/test metrics\n",
        "def check_results(ranks):\n",
        "    train_recall_at_10 = tensorrec.eval.recall_at_k(test_interactions=sparse_test_ratings_4plus,\n",
        "                                                    predicted_ranks=ranks,\n",
        "                                                   k=10).mean()\n",
        "    test_recall_at_10 = tensorrec.eval.recall_at_k(test_interactions=sparse_train_ratings_4plus,\n",
        "                                                    predicted_ranks=ranks,\n",
        "                                                   k=10).mean()\n",
        "    \n",
        "    print(\"Recall at 10: Train: {:.4f} Test: {:.4f}\".format(train_recall_at_10,test_recall_at_10))\n",
        "    \n",
        "#Check result of CF\n",
        "print(\"Matrix fatorization collaborative filter:\")\n",
        "predicted_ranks = cf_model.predict_rank(user_features=user_indicator_features,\n",
        "                                           item_features = item_indicator_features)\n",
        "check_results(predicted_ranks)    "
      ],
      "execution_count": 12,
      "outputs": [
        {
          "output_type": "stream",
          "text": [
            "Matrix fatorization collaborative filter:\n",
            "Recall at 10: Train: 0.0020 Test: 0.0029\n"
          ],
          "name": "stdout"
        }
      ]
    },
    {
      "cell_type": "code",
      "metadata": {
        "id": "zamRtsqT1ukw",
        "colab_type": "code",
        "colab": {
          "base_uri": "https://localhost:8080/",
          "height": 141
        },
        "outputId": "c123d169-7d5a-4d81-862f-7c28fda4b992"
      },
      "source": [
        "#Another loss function: WMRB\n",
        "print('Training collaborative filter with WMRB loss')\n",
        "ranking_cf_model = tensorrec.TensorRec(n_components=5,loss_graph=tensorrec.loss_graphs.WMRBLossGraph())\n",
        "log_dir=\"/content/sample_data/\"\n",
        "\n",
        "ranking_cf_model.fit(interactions=sparse_train_ratings_4plus, user_features=user_indicator_features, item_features=item_indicator_features, n_sampled_items=int(n_items*.01))\n",
        "tensorboard_callback = tf.keras.callbacks.TensorBoard(log_dir=log_dir, histogram_freq=1,write_graph=True, write_images=True)\n",
        "\n",
        "\n",
        "#Check results of the WMRB Matrix Factorization CF model\n",
        "predicted_ranks = ranking_cf_model.predict_rank(user_features=user_indicator_features, \n",
        "                                                item_features=item_indicator_features)\n",
        "check_results(predicted_ranks)\n"
      ],
      "execution_count": 14,
      "outputs": [
        {
          "output_type": "stream",
          "text": [
            "Training collaborative filter with WMRB loss\n"
          ],
          "name": "stdout"
        },
        {
          "output_type": "stream",
          "text": [
            "/usr/local/lib/python3.6/dist-packages/tensorflow/python/ops/gradients_util.py:93: UserWarning: Converting sparse IndexedSlices to a dense Tensor of unknown shape. This may consume a large amount of memory.\n",
            "  \"Converting sparse IndexedSlices to a dense Tensor of unknown shape. \"\n",
            "/usr/local/lib/python3.6/dist-packages/tensorflow/python/ops/gradients_util.py:93: UserWarning: Converting sparse IndexedSlices to a dense Tensor of unknown shape. This may consume a large amount of memory.\n",
            "  \"Converting sparse IndexedSlices to a dense Tensor of unknown shape. \"\n"
          ],
          "name": "stderr"
        },
        {
          "output_type": "stream",
          "text": [
            "Recall at 10: Train: 0.0800 Test: 0.1163\n"
          ],
          "name": "stdout"
        }
      ]
    },
    {
      "cell_type": "code",
      "metadata": {
        "id": "bQ7dtxAP6Dhy",
        "colab_type": "code",
        "colab": {}
      },
      "source": [
        "!tensorboard --logdir log_dir\n"
      ],
      "execution_count": 0,
      "outputs": []
    },
    {
      "cell_type": "code",
      "metadata": {
        "id": "mNNWwLp3UwN8",
        "colab_type": "code",
        "colab": {}
      },
      "source": [
        "# Construct a Keras representation graph by inheriting tensorrec.representation_graphs.AbstractKerasRepresentationGraph\n",
        "class DeepRepresentationGraph(AbstractKerasRepresentationGraph):\n",
        "\n",
        "    # This method returns an ordered list of Keras layers connecting the user/item features to the user/item\n",
        "    # representation. When TensorRec learns, the learning will happen in these layers.\n",
        "    def create_layers(self, n_features, n_components):\n",
        "        return [\n",
        "            ks.layers.Dense(n_components * 16, activation='relu'),\n",
        "            ks.layers.Dense(n_components * 8, activation='relu'),\n",
        "            ks.layers.Dense(n_components * 2, activation='relu'),\n",
        "            ks.layers.Dense(n_components, activation='tanh'),\n",
        "        ]\n"
      ],
      "execution_count": 0,
      "outputs": []
    },
    {
      "cell_type": "code",
      "metadata": {
        "id": "R9Vib70nWwZ0",
        "colab_type": "code",
        "colab": {
          "base_uri": "https://localhost:8080/",
          "height": 1000
        },
        "outputId": "f7547641-745a-4709-c960-2afcc9042db1"
      },
      "source": [
        "# Build results header string\n",
        "result_strings = []\n",
        "header = \"UserRepr Graph\"\n",
        "header = append_to_string_at_point(header, 'ItemRepr Graph', 40)\n",
        "header = append_to_string_at_point(header, 'Rec. In-Sample', 70)\n",
        "header = append_to_string_at_point(header, 'Rec. Out-sample', 90)\n",
        "header = append_to_string_at_point(header, 'Prec. In-Sample', 110)\n",
        "header = append_to_string_at_point(header, 'Prec. Out-sample', 130)\n",
        "header = append_to_string_at_point(header, 'NDCG In-Sample', 150)\n",
        "header = append_to_string_at_point(header, 'NDCG Out-sample', 170)\n",
        "result_strings.append(header)\n",
        "\n",
        "for user_repr in (NormalizedLinearRepresentationGraph, DeepRepresentationGraph):\n",
        "    for item_repr in (LinearRepresentationGraph, DeepRepresentationGraph):\n",
        "        model = tensorrec.TensorRec(n_components=20,\n",
        "                          item_repr_graph=item_repr(),\n",
        "                          user_repr_graph=user_repr(),\n",
        "                          loss_graph=tensorrec.loss_graphs.BalancedWMRBLossGraph(),\n",
        "                          biased=False)\n",
        "        \n",
        "        #tensorboard_callback = tf.keras.callbacks.TensorBoard(log_dir=log_dir, histogram_freq=1,write_graph=True, write_images=True)\n",
        "        #tensorboard_callback.set_model(model)\n",
        "\n",
        "        # Fit the model and get a result packet\n",
        "        fit_kwargs = {'epochs': 5, 'learning_rate': .01, 'n_sampled_items': 100, 'verbose': True}\n",
        "        result = tensorrec.eval.fit_and_eval(model, user_indicator_features, item_indicator_features, sparse_train_ratings_4plus, sparse_test_ratings_4plus, fit_kwargs,\n",
        "                              recall_k=100, precision_k=100, ndcg_k=100)\n",
        "        \n",
        "        # Build results row for this configuration\n",
        "        res_string = \"{}\".format(user_repr.__name__)\n",
        "        res_string = append_to_string_at_point(res_string, item_repr.__name__, 40)\n",
        "        res_string = append_to_string_at_point(res_string, \": {:0.4f}\".format(result[3]), 68)\n",
        "        res_string = append_to_string_at_point(res_string, \"{:0.4f}\".format(result[0]), 90)\n",
        "        res_string = append_to_string_at_point(res_string, \"{:0.4f}\".format(result[4]), 110)\n",
        "        res_string = append_to_string_at_point(res_string, \"{:0.4f}\".format(result[1]), 130)\n",
        "        res_string = append_to_string_at_point(res_string, \"{:0.4f}\".format(result[5]), 150)\n",
        "        res_string = append_to_string_at_point(res_string, \"{:0.4f}\".format(result[2]), 170)\n",
        "        logging.info(header)\n",
        "        logging.info(res_string)\n",
        "        result_strings.append(res_string)\n",
        "\n",
        "# Log the final results of all models\n",
        "for res_string in result_strings:\n",
        "    logging.info(res_string)"
      ],
      "execution_count": 24,
      "outputs": [
        {
          "output_type": "stream",
          "text": [
            "I0902 21:03:41.056408 140163972814720 tensorrec.py:587] Processing interaction and feature data\n",
            "/usr/local/lib/python3.6/dist-packages/tensorflow/python/ops/gradients_util.py:93: UserWarning: Converting sparse IndexedSlices to a dense Tensor of unknown shape. This may consume a large amount of memory.\n",
            "  \"Converting sparse IndexedSlices to a dense Tensor of unknown shape. \"\n",
            "I0902 21:03:44.158890 140163972814720 tensorrec.py:615] Beginning fitting\n",
            "I0902 21:03:44.852080 140163972814720 tensorrec.py:633] EPOCH 0 BATCH 0 loss = 6.272644996643066, weight_reg_l2_loss = 0.051669995117187506, mean_pred = -3.517634468153119e-05\n",
            "I0902 21:03:45.110334 140163972814720 tensorrec.py:633] EPOCH 1 BATCH 0 loss = 6.261584281921387, weight_reg_l2_loss = 0.051262421875000005, mean_pred = 0.010220995172858238\n",
            "I0902 21:03:45.370117 140163972814720 tensorrec.py:633] EPOCH 2 BATCH 0 loss = 6.248965263366699, weight_reg_l2_loss = 0.05095990234375, mean_pred = 0.02047416754066944\n",
            "I0902 21:03:45.636546 140163972814720 tensorrec.py:633] EPOCH 3 BATCH 0 loss = 6.234622001647949, weight_reg_l2_loss = 0.050736362304687505, mean_pred = 0.03068961761891842\n",
            "I0902 21:03:45.901909 140163972814720 tensorrec.py:633] EPOCH 4 BATCH 0 loss = 6.224530220031738, weight_reg_l2_loss = 0.050580341796875004, mean_pred = 0.04094669595360756\n",
            "/usr/local/lib/python3.6/dist-packages/tensorrec/eval.py:111: RuntimeWarning: invalid value encountered in true_divide\n",
            "  ndcg = dcg/idcg\n",
            "/usr/local/lib/python3.6/dist-packages/tensorrec/eval.py:111: RuntimeWarning: invalid value encountered in true_divide\n",
            "  ndcg = dcg/idcg\n",
            "I0902 21:03:47.915768 140163972814720 <ipython-input-24-651141e2739a>:37] UserRepr Graph                          ItemRepr Graph                Rec. In-Sample      Rec. Out-sample     Prec. In-Sample     Prec. Out-sample    NDCG In-Sample      NDCG Out-sample\n",
            "I0902 21:03:47.916580 140163972814720 <ipython-input-24-651141e2739a>:38] NormalizedLinearRepresentationGraph     LinearRepresentationGraph   : 0.0403              0.0173              0.0226              0.0025              0.0908              0.0111\n",
            "I0902 21:03:47.925392 140163972814720 tensorrec.py:587] Processing interaction and feature data\n",
            "/usr/local/lib/python3.6/dist-packages/tensorflow/python/ops/gradients_util.py:93: UserWarning: Converting sparse IndexedSlices to a dense Tensor of unknown shape. This may consume a large amount of memory.\n",
            "  \"Converting sparse IndexedSlices to a dense Tensor of unknown shape. \"\n",
            "I0902 21:03:51.439316 140163972814720 tensorrec.py:615] Beginning fitting\n",
            "I0902 21:03:52.334834 140163972814720 tensorrec.py:633] EPOCH 0 BATCH 0 loss = 6.3005051612854, weight_reg_l2_loss = 0.007676269531250001, mean_pred = 0.0004723219317384064\n",
            "I0902 21:03:52.696942 140163972814720 tensorrec.py:633] EPOCH 1 BATCH 0 loss = 6.295932292938232, weight_reg_l2_loss = 0.007000541381835938, mean_pred = 0.003392408834770322\n",
            "I0902 21:03:53.054108 140163972814720 tensorrec.py:633] EPOCH 2 BATCH 0 loss = 6.271449565887451, weight_reg_l2_loss = 0.007732721557617188, mean_pred = 0.03196128085255623\n",
            "I0902 21:03:53.413741 140163972814720 tensorrec.py:633] EPOCH 3 BATCH 0 loss = 6.1993408203125, weight_reg_l2_loss = 0.009186396484375001, mean_pred = 0.10655689239501953\n",
            "I0902 21:03:53.776075 140163972814720 tensorrec.py:633] EPOCH 4 BATCH 0 loss = 6.002861022949219, weight_reg_l2_loss = 0.01093845947265625, mean_pred = 0.23168465495109558\n",
            "/usr/local/lib/python3.6/dist-packages/tensorrec/eval.py:111: RuntimeWarning: invalid value encountered in true_divide\n",
            "  ndcg = dcg/idcg\n",
            "/usr/local/lib/python3.6/dist-packages/tensorrec/eval.py:111: RuntimeWarning: invalid value encountered in true_divide\n",
            "  ndcg = dcg/idcg\n",
            "I0902 21:03:55.858744 140163972814720 <ipython-input-24-651141e2739a>:37] UserRepr Graph                          ItemRepr Graph                Rec. In-Sample      Rec. Out-sample     Prec. In-Sample     Prec. Out-sample    NDCG In-Sample      NDCG Out-sample\n",
            "I0902 21:03:55.859599 140163972814720 <ipython-input-24-651141e2739a>:38] NormalizedLinearRepresentationGraph     DeepRepresentationGraph     : 0.1098              0.0340              0.0702              0.0057              0.2584              0.0220\n",
            "I0902 21:03:55.875039 140163972814720 tensorrec.py:587] Processing interaction and feature data\n",
            "/usr/local/lib/python3.6/dist-packages/tensorflow/python/ops/gradients_util.py:93: UserWarning: Converting sparse IndexedSlices to a dense Tensor of unknown shape. This may consume a large amount of memory.\n",
            "  \"Converting sparse IndexedSlices to a dense Tensor of unknown shape. \"\n",
            "I0902 21:03:59.730163 140163972814720 tensorrec.py:615] Beginning fitting\n",
            "I0902 21:04:00.507028 140163972814720 tensorrec.py:633] EPOCH 0 BATCH 0 loss = 6.299553394317627, weight_reg_l2_loss = 0.052235551757812505, mean_pred = 0.0008196192793548107\n",
            "I0902 21:04:00.777752 140163972814720 tensorrec.py:633] EPOCH 1 BATCH 0 loss = 6.241503715515137, weight_reg_l2_loss = 0.049480068359375004, mean_pred = 0.029670294374227524\n",
            "I0902 21:04:01.048160 140163972814720 tensorrec.py:633] EPOCH 2 BATCH 0 loss = 5.9808430671691895, weight_reg_l2_loss = 0.048491962890625004, mean_pred = 0.12906603515148163\n",
            "I0902 21:04:01.325994 140163972814720 tensorrec.py:633] EPOCH 3 BATCH 0 loss = 5.717334270477295, weight_reg_l2_loss = 0.048333994140625, mean_pred = 0.28945884108543396\n",
            "I0902 21:04:01.600559 140163972814720 tensorrec.py:633] EPOCH 4 BATCH 0 loss = 5.525600910186768, weight_reg_l2_loss = 0.0484524072265625, mean_pred = 0.4253862202167511\n",
            "/usr/local/lib/python3.6/dist-packages/tensorrec/eval.py:111: RuntimeWarning: invalid value encountered in true_divide\n",
            "  ndcg = dcg/idcg\n",
            "/usr/local/lib/python3.6/dist-packages/tensorrec/eval.py:111: RuntimeWarning: invalid value encountered in true_divide\n",
            "  ndcg = dcg/idcg\n",
            "I0902 21:04:03.734548 140163972814720 <ipython-input-24-651141e2739a>:37] UserRepr Graph                          ItemRepr Graph                Rec. In-Sample      Rec. Out-sample     Prec. In-Sample     Prec. Out-sample    NDCG In-Sample      NDCG Out-sample\n",
            "I0902 21:04:03.735349 140163972814720 <ipython-input-24-651141e2739a>:38] DeepRepresentationGraph                 LinearRepresentationGraph   : 0.0736              0.0692              0.0407              0.0097              0.1457              0.0424\n",
            "I0902 21:04:03.743426 140163972814720 tensorrec.py:587] Processing interaction and feature data\n",
            "/usr/local/lib/python3.6/dist-packages/tensorflow/python/ops/gradients_util.py:93: UserWarning: Converting sparse IndexedSlices to a dense Tensor of unknown shape. This may consume a large amount of memory.\n",
            "  \"Converting sparse IndexedSlices to a dense Tensor of unknown shape. \"\n",
            "I0902 21:04:07.934106 140163972814720 tensorrec.py:615] Beginning fitting\n",
            "I0902 21:04:08.949604 140163972814720 tensorrec.py:633] EPOCH 0 BATCH 0 loss = 6.300534248352051, weight_reg_l2_loss = 0.008244169921875, mean_pred = 0.00032705185003578663\n",
            "I0902 21:04:09.338301 140163972814720 tensorrec.py:633] EPOCH 1 BATCH 0 loss = 6.297527313232422, weight_reg_l2_loss = 0.005898679809570313, mean_pred = -0.0039476980455219746\n",
            "I0902 21:04:09.713987 140163972814720 tensorrec.py:633] EPOCH 2 BATCH 0 loss = 6.156407356262207, weight_reg_l2_loss = 0.005725073242187501, mean_pred = 0.21726781129837036\n",
            "I0902 21:04:10.082162 140163972814720 tensorrec.py:633] EPOCH 3 BATCH 0 loss = 4.835975646972656, weight_reg_l2_loss = 0.0066314074707031255, mean_pred = 1.1784460544586182\n",
            "I0902 21:04:10.459347 140163972814720 tensorrec.py:633] EPOCH 4 BATCH 0 loss = 4.518645286560059, weight_reg_l2_loss = 0.007924998779296876, mean_pred = 2.5617334842681885\n",
            "/usr/local/lib/python3.6/dist-packages/tensorrec/eval.py:111: RuntimeWarning: invalid value encountered in true_divide\n",
            "  ndcg = dcg/idcg\n",
            "/usr/local/lib/python3.6/dist-packages/tensorrec/eval.py:111: RuntimeWarning: invalid value encountered in true_divide\n",
            "  ndcg = dcg/idcg\n",
            "I0902 21:04:12.748939 140163972814720 <ipython-input-24-651141e2739a>:37] UserRepr Graph                          ItemRepr Graph                Rec. In-Sample      Rec. Out-sample     Prec. In-Sample     Prec. Out-sample    NDCG In-Sample      NDCG Out-sample\n",
            "I0902 21:04:12.749927 140163972814720 <ipython-input-24-651141e2739a>:38] DeepRepresentationGraph                 DeepRepresentationGraph     : 0.1628              0.1525              0.0849              0.0209              0.3163              0.0960\n",
            "I0902 21:04:12.751099 140163972814720 <ipython-input-24-651141e2739a>:43] UserRepr Graph                          ItemRepr Graph                Rec. In-Sample      Rec. Out-sample     Prec. In-Sample     Prec. Out-sample    NDCG In-Sample      NDCG Out-sample\n",
            "I0902 21:04:12.752060 140163972814720 <ipython-input-24-651141e2739a>:43] NormalizedLinearRepresentationGraph     LinearRepresentationGraph   : 0.0403              0.0173              0.0226              0.0025              0.0908              0.0111\n",
            "I0902 21:04:12.752945 140163972814720 <ipython-input-24-651141e2739a>:43] NormalizedLinearRepresentationGraph     DeepRepresentationGraph     : 0.1098              0.0340              0.0702              0.0057              0.2584              0.0220\n",
            "I0902 21:04:12.753928 140163972814720 <ipython-input-24-651141e2739a>:43] DeepRepresentationGraph                 LinearRepresentationGraph   : 0.0736              0.0692              0.0407              0.0097              0.1457              0.0424\n",
            "I0902 21:04:12.754930 140163972814720 <ipython-input-24-651141e2739a>:43] DeepRepresentationGraph                 DeepRepresentationGraph     : 0.1628              0.1525              0.0849              0.0209              0.3163              0.0960\n"
          ],
          "name": "stderr"
        }
      ]
    },
    {
      "cell_type": "markdown",
      "metadata": {
        "id": "_kmx8KxYK4kY",
        "colab_type": "text"
      },
      "source": [
        ""
      ]
    },
    {
      "cell_type": "code",
      "metadata": {
        "id": "NiXOaRaQGj0b",
        "colab_type": "code",
        "colab": {
          "base_uri": "https://localhost:8080/",
          "height": 173
        },
        "outputId": "dc224c54-a777-4a23-8ccf-d0bf9cbdf446"
      },
      "source": [
        "!ls -lta /content/sample_data/"
      ],
      "execution_count": 25,
      "outputs": [
        {
          "output_type": "stream",
          "text": [
            "total 55512\n",
            "drwxr-xr-x 1 root root     4096 Sep  2 20:55 ..\n",
            "-rw-r--r-- 1 root root 18289443 Aug 27 16:17 mnist_test.csv\n",
            "drwxr-xr-x 1 root root     4096 Aug 27 16:17 .\n",
            "-rw-r--r-- 1 root root 36523880 Aug 27 16:17 mnist_train_small.csv\n",
            "-rw-r--r-- 1 root root   301141 Aug 27 16:17 california_housing_test.csv\n",
            "-rw-r--r-- 1 root root  1706430 Aug 27 16:17 california_housing_train.csv\n",
            "-rwxr-xr-x 1 root root     1697 Jan  1  2000 anscombe.json\n",
            "-rwxr-xr-x 1 root root      930 Jan  1  2000 README.md\n"
          ],
          "name": "stdout"
        }
      ]
    },
    {
      "cell_type": "code",
      "metadata": {
        "id": "YF6Xq0_ZJ_g9",
        "colab_type": "code",
        "colab": {}
      },
      "source": [
        ""
      ],
      "execution_count": 0,
      "outputs": []
    }
  ]
}