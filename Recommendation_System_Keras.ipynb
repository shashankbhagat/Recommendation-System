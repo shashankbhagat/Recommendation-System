{
  "nbformat": 4,
  "nbformat_minor": 0,
  "metadata": {
    "colab": {
      "name": "Recommendation-System-Keras.ipynb",
      "version": "0.3.2",
      "provenance": [],
      "include_colab_link": true
    },
    "kernelspec": {
      "name": "python3",
      "display_name": "Python 3"
    }
  },
  "cells": [
    {
      "cell_type": "markdown",
      "metadata": {
        "id": "view-in-github",
        "colab_type": "text"
      },
      "source": [
        "<a href=\"https://colab.research.google.com/github/shashankbhagat/Recommendation-System/blob/master/Recommendation_System_Keras.ipynb\" target=\"_parent\"><img src=\"https://colab.research.google.com/assets/colab-badge.svg\" alt=\"Open In Colab\"/></a>"
      ]
    },
    {
      "cell_type": "code",
      "metadata": {
        "id": "8x1zGLw2zNXk",
        "colab_type": "code",
        "colab": {}
      },
      "source": [
        "import tensorflow as tf\n",
        "import csv\n",
        "from collections import defaultdict\n",
        "import random\n",
        "import pandas as pd\n",
        "import numpy as np\n",
        "import scipy as sc\n",
        "from sklearn.model_selection import train_test_split\n",
        "import keras\n",
        "from IPython.display import SVG\n",
        "from keras.optimizers import Adam\n",
        "from keras.utils.vis_utils import model_to_dot"
      ],
      "execution_count": 0,
      "outputs": []
    },
    {
      "cell_type": "code",
      "metadata": {
        "id": "C6QvjyPazxrO",
        "colab_type": "code",
        "colab": {}
      },
      "source": [
        "dataset = pd.read_csv(\"ratings.csv\",names=\"user_id,item_id,rating,timestamp\".split(\",\"),header=None)"
      ],
      "execution_count": 0,
      "outputs": []
    },
    {
      "cell_type": "code",
      "metadata": {
        "id": "8Gq4I3eC0LTM",
        "colab_type": "code",
        "colab": {}
      },
      "source": [
        "dataset=dataset[1:]\n",
        "dataset.reset_index(inplace=True)\n",
        "dataset=dataset.drop(columns=['index'])"
      ],
      "execution_count": 0,
      "outputs": []
    },
    {
      "cell_type": "code",
      "metadata": {
        "id": "d2X-FBRw1jU6",
        "colab_type": "code",
        "colab": {}
      },
      "source": [
        "dataset.user_id = dataset.user_id.astype('category').cat.codes.values\n",
        "dataset.item_id = dataset.item_id.astype('category').cat.codes.values"
      ],
      "execution_count": 0,
      "outputs": []
    },
    {
      "cell_type": "code",
      "metadata": {
        "id": "TPCctcDf33uV",
        "colab_type": "code",
        "colab": {}
      },
      "source": [
        "train,test=train_test_split(dataset,test_size=0.2)"
      ],
      "execution_count": 0,
      "outputs": []
    },
    {
      "cell_type": "code",
      "metadata": {
        "id": "bl-7dola4Xx2",
        "colab_type": "code",
        "colab": {}
      },
      "source": [
        "n_users, n_movies = len(dataset.user_id.unique()), len(dataset.item_id.unique())\n",
        "n_latent_factors = 3"
      ],
      "execution_count": 0,
      "outputs": []
    },
    {
      "cell_type": "code",
      "metadata": {
        "id": "7aMMIFQF4vhS",
        "colab_type": "code",
        "colab": {}
      },
      "source": [
        "movie_input=keras.layers.Input(shape=[1],name='Item')\n",
        "movie_embedding = keras.layers.Embedding(n_movies+1, n_latent_factors, name='Movie-Embedding')(movie_input)\n",
        "movie_vec=keras.layers.Flatten(name='FlattenMovies')(movie_embedding)\n",
        "\n",
        "user_input=keras.layers.Input(shape=[1],name='User')\n",
        "user_vec=keras.layers.Flatten(name='FlattenUsers')(keras.layers.Embedding(n_users+1,n_latent_factors,name='User-Embedding')(user_input))\n",
        "\n",
        "prod=keras.layers.dot([movie_vec,user_vec],axes=1) #try axes -1 or 1.   #.merge([movie_vec,user_vec],mode='dot',name='DotProduct')\n",
        "model=keras.Model([user_input,movie_input],prod)\n",
        "model.compile('adam','mean_squared_error')"
      ],
      "execution_count": 0,
      "outputs": []
    },
    {
      "cell_type": "code",
      "metadata": {
        "id": "orwi-hPV6b0O",
        "colab_type": "code",
        "colab": {
          "base_uri": "https://localhost:8080/",
          "height": 581
        },
        "outputId": "bc5b3434-1564-4802-b1b9-2430db309158"
      },
      "source": [
        "SVG(model_to_dot(model,show_shapes=True,show_layer_names=True,rankdir='HB').create(prog='dot',format='svg'))"
      ],
      "execution_count": 81,
      "outputs": [
        {
          "output_type": "execute_result",
          "data": {
            "text/plain": [
              "<IPython.core.display.SVG object>"
            ],
            "image/svg+xml": "<svg height=\"405pt\" viewBox=\"0.00 0.00 707.50 304.00\" width=\"943pt\" xmlns=\"http://www.w3.org/2000/svg\" xmlns:xlink=\"http://www.w3.org/1999/xlink\">\n<g class=\"graph\" id=\"graph0\" transform=\"scale(1.3333 1.3333) rotate(0) translate(4 300)\">\n<title>G</title>\n<polygon fill=\"#ffffff\" points=\"-4,4 -4,-300 703.5,-300 703.5,4 -4,4\" stroke=\"transparent\"/>\n<!-- 140445540118656 -->\n<g class=\"node\" id=\"node1\">\n<title>140445540118656</title>\n<polygon fill=\"none\" points=\"51.5,-249.5 51.5,-295.5 294.5,-295.5 294.5,-249.5 51.5,-249.5\" stroke=\"#000000\"/>\n<text fill=\"#000000\" font-family=\"Times,serif\" font-size=\"14.00\" text-anchor=\"middle\" x=\"108\" y=\"-268.8\">Item: InputLayer</text>\n<polyline fill=\"none\" points=\"164.5,-249.5 164.5,-295.5 \" stroke=\"#000000\"/>\n<text fill=\"#000000\" font-family=\"Times,serif\" font-size=\"14.00\" text-anchor=\"middle\" x=\"193.5\" y=\"-280.3\">input:</text>\n<polyline fill=\"none\" points=\"164.5,-272.5 222.5,-272.5 \" stroke=\"#000000\"/>\n<text fill=\"#000000\" font-family=\"Times,serif\" font-size=\"14.00\" text-anchor=\"middle\" x=\"193.5\" y=\"-257.3\">output:</text>\n<polyline fill=\"none\" points=\"222.5,-249.5 222.5,-295.5 \" stroke=\"#000000\"/>\n<text fill=\"#000000\" font-family=\"Times,serif\" font-size=\"14.00\" text-anchor=\"middle\" x=\"258.5\" y=\"-280.3\">(None, 1)</text>\n<polyline fill=\"none\" points=\"222.5,-272.5 294.5,-272.5 \" stroke=\"#000000\"/>\n<text fill=\"#000000\" font-family=\"Times,serif\" font-size=\"14.00\" text-anchor=\"middle\" x=\"258.5\" y=\"-257.3\">(None, 1)</text>\n</g>\n<!-- 140445540118768 -->\n<g class=\"node\" id=\"node3\">\n<title>140445540118768</title>\n<polygon fill=\"none\" points=\"0,-166.5 0,-212.5 346,-212.5 346,-166.5 0,-166.5\" stroke=\"#000000\"/>\n<text fill=\"#000000\" font-family=\"Times,serif\" font-size=\"14.00\" text-anchor=\"middle\" x=\"100.5\" y=\"-185.8\">Movie-Embedding: Embedding</text>\n<polyline fill=\"none\" points=\"201,-166.5 201,-212.5 \" stroke=\"#000000\"/>\n<text fill=\"#000000\" font-family=\"Times,serif\" font-size=\"14.00\" text-anchor=\"middle\" x=\"230\" y=\"-197.3\">input:</text>\n<polyline fill=\"none\" points=\"201,-189.5 259,-189.5 \" stroke=\"#000000\"/>\n<text fill=\"#000000\" font-family=\"Times,serif\" font-size=\"14.00\" text-anchor=\"middle\" x=\"230\" y=\"-174.3\">output:</text>\n<polyline fill=\"none\" points=\"259,-166.5 259,-212.5 \" stroke=\"#000000\"/>\n<text fill=\"#000000\" font-family=\"Times,serif\" font-size=\"14.00\" text-anchor=\"middle\" x=\"302.5\" y=\"-197.3\">(None, 1)</text>\n<polyline fill=\"none\" points=\"259,-189.5 346,-189.5 \" stroke=\"#000000\"/>\n<text fill=\"#000000\" font-family=\"Times,serif\" font-size=\"14.00\" text-anchor=\"middle\" x=\"302.5\" y=\"-174.3\">(None, 1, 3)</text>\n</g>\n<!-- 140445540118656&#45;&gt;140445540118768 -->\n<g class=\"edge\" id=\"edge1\">\n<title>140445540118656-&gt;140445540118768</title>\n<path d=\"M173,-249.3799C173,-241.1745 173,-231.7679 173,-222.8786\" fill=\"none\" stroke=\"#000000\"/>\n<polygon fill=\"#000000\" points=\"176.5001,-222.784 173,-212.784 169.5001,-222.784 176.5001,-222.784\" stroke=\"#000000\"/>\n</g>\n<!-- 140445540614608 -->\n<g class=\"node\" id=\"node2\">\n<title>140445540614608</title>\n<polygon fill=\"none\" points=\"410,-249.5 410,-295.5 654,-295.5 654,-249.5 410,-249.5\" stroke=\"#000000\"/>\n<text fill=\"#000000\" font-family=\"Times,serif\" font-size=\"14.00\" text-anchor=\"middle\" x=\"467\" y=\"-268.8\">User: InputLayer</text>\n<polyline fill=\"none\" points=\"524,-249.5 524,-295.5 \" stroke=\"#000000\"/>\n<text fill=\"#000000\" font-family=\"Times,serif\" font-size=\"14.00\" text-anchor=\"middle\" x=\"553\" y=\"-280.3\">input:</text>\n<polyline fill=\"none\" points=\"524,-272.5 582,-272.5 \" stroke=\"#000000\"/>\n<text fill=\"#000000\" font-family=\"Times,serif\" font-size=\"14.00\" text-anchor=\"middle\" x=\"553\" y=\"-257.3\">output:</text>\n<polyline fill=\"none\" points=\"582,-249.5 582,-295.5 \" stroke=\"#000000\"/>\n<text fill=\"#000000\" font-family=\"Times,serif\" font-size=\"14.00\" text-anchor=\"middle\" x=\"618\" y=\"-280.3\">(None, 1)</text>\n<polyline fill=\"none\" points=\"582,-272.5 654,-272.5 \" stroke=\"#000000\"/>\n<text fill=\"#000000\" font-family=\"Times,serif\" font-size=\"14.00\" text-anchor=\"middle\" x=\"618\" y=\"-257.3\">(None, 1)</text>\n</g>\n<!-- 140445540119664 -->\n<g class=\"node\" id=\"node4\">\n<title>140445540119664</title>\n<polygon fill=\"none\" points=\"364.5,-166.5 364.5,-212.5 699.5,-212.5 699.5,-166.5 364.5,-166.5\" stroke=\"#000000\"/>\n<text fill=\"#000000\" font-family=\"Times,serif\" font-size=\"14.00\" text-anchor=\"middle\" x=\"459.5\" y=\"-185.8\">User-Embedding: Embedding</text>\n<polyline fill=\"none\" points=\"554.5,-166.5 554.5,-212.5 \" stroke=\"#000000\"/>\n<text fill=\"#000000\" font-family=\"Times,serif\" font-size=\"14.00\" text-anchor=\"middle\" x=\"583.5\" y=\"-197.3\">input:</text>\n<polyline fill=\"none\" points=\"554.5,-189.5 612.5,-189.5 \" stroke=\"#000000\"/>\n<text fill=\"#000000\" font-family=\"Times,serif\" font-size=\"14.00\" text-anchor=\"middle\" x=\"583.5\" y=\"-174.3\">output:</text>\n<polyline fill=\"none\" points=\"612.5,-166.5 612.5,-212.5 \" stroke=\"#000000\"/>\n<text fill=\"#000000\" font-family=\"Times,serif\" font-size=\"14.00\" text-anchor=\"middle\" x=\"656\" y=\"-197.3\">(None, 1)</text>\n<polyline fill=\"none\" points=\"612.5,-189.5 699.5,-189.5 \" stroke=\"#000000\"/>\n<text fill=\"#000000\" font-family=\"Times,serif\" font-size=\"14.00\" text-anchor=\"middle\" x=\"656\" y=\"-174.3\">(None, 1, 3)</text>\n</g>\n<!-- 140445540614608&#45;&gt;140445540119664 -->\n<g class=\"edge\" id=\"edge2\">\n<title>140445540614608-&gt;140445540119664</title>\n<path d=\"M532,-249.3799C532,-241.1745 532,-231.7679 532,-222.8786\" fill=\"none\" stroke=\"#000000\"/>\n<polygon fill=\"#000000\" points=\"535.5001,-222.784 532,-212.784 528.5001,-222.784 535.5001,-222.784\" stroke=\"#000000\"/>\n</g>\n<!-- 140445540118824 -->\n<g class=\"node\" id=\"node5\">\n<title>140445540118824</title>\n<polygon fill=\"none\" points=\"56,-83.5 56,-129.5 346,-129.5 346,-83.5 56,-83.5\" stroke=\"#000000\"/>\n<text fill=\"#000000\" font-family=\"Times,serif\" font-size=\"14.00\" text-anchor=\"middle\" x=\"128.5\" y=\"-102.8\">FlattenMovies: Flatten</text>\n<polyline fill=\"none\" points=\"201,-83.5 201,-129.5 \" stroke=\"#000000\"/>\n<text fill=\"#000000\" font-family=\"Times,serif\" font-size=\"14.00\" text-anchor=\"middle\" x=\"230\" y=\"-114.3\">input:</text>\n<polyline fill=\"none\" points=\"201,-106.5 259,-106.5 \" stroke=\"#000000\"/>\n<text fill=\"#000000\" font-family=\"Times,serif\" font-size=\"14.00\" text-anchor=\"middle\" x=\"230\" y=\"-91.3\">output:</text>\n<polyline fill=\"none\" points=\"259,-83.5 259,-129.5 \" stroke=\"#000000\"/>\n<text fill=\"#000000\" font-family=\"Times,serif\" font-size=\"14.00\" text-anchor=\"middle\" x=\"302.5\" y=\"-114.3\">(None, 1, 3)</text>\n<polyline fill=\"none\" points=\"259,-106.5 346,-106.5 \" stroke=\"#000000\"/>\n<text fill=\"#000000\" font-family=\"Times,serif\" font-size=\"14.00\" text-anchor=\"middle\" x=\"302.5\" y=\"-91.3\">(None, 3)</text>\n</g>\n<!-- 140445540118768&#45;&gt;140445540118824 -->\n<g class=\"edge\" id=\"edge3\">\n<title>140445540118768-&gt;140445540118824</title>\n<path d=\"M180.7996,-166.3799C183.6278,-157.9962 186.8791,-148.3584 189.9351,-139.2996\" fill=\"none\" stroke=\"#000000\"/>\n<polygon fill=\"#000000\" points=\"193.265,-140.3782 193.1452,-129.784 186.6322,-138.1406 193.265,-140.3782\" stroke=\"#000000\"/>\n</g>\n<!-- 140445540119048 -->\n<g class=\"node\" id=\"node6\">\n<title>140445540119048</title>\n<polygon fill=\"none\" points=\"378.5,-83.5 378.5,-129.5 657.5,-129.5 657.5,-83.5 378.5,-83.5\" stroke=\"#000000\"/>\n<text fill=\"#000000\" font-family=\"Times,serif\" font-size=\"14.00\" text-anchor=\"middle\" x=\"445.5\" y=\"-102.8\">FlattenUsers: Flatten</text>\n<polyline fill=\"none\" points=\"512.5,-83.5 512.5,-129.5 \" stroke=\"#000000\"/>\n<text fill=\"#000000\" font-family=\"Times,serif\" font-size=\"14.00\" text-anchor=\"middle\" x=\"541.5\" y=\"-114.3\">input:</text>\n<polyline fill=\"none\" points=\"512.5,-106.5 570.5,-106.5 \" stroke=\"#000000\"/>\n<text fill=\"#000000\" font-family=\"Times,serif\" font-size=\"14.00\" text-anchor=\"middle\" x=\"541.5\" y=\"-91.3\">output:</text>\n<polyline fill=\"none\" points=\"570.5,-83.5 570.5,-129.5 \" stroke=\"#000000\"/>\n<text fill=\"#000000\" font-family=\"Times,serif\" font-size=\"14.00\" text-anchor=\"middle\" x=\"614\" y=\"-114.3\">(None, 1, 3)</text>\n<polyline fill=\"none\" points=\"570.5,-106.5 657.5,-106.5 \" stroke=\"#000000\"/>\n<text fill=\"#000000\" font-family=\"Times,serif\" font-size=\"14.00\" text-anchor=\"middle\" x=\"614\" y=\"-91.3\">(None, 3)</text>\n</g>\n<!-- 140445540119664&#45;&gt;140445540119048 -->\n<g class=\"edge\" id=\"edge4\">\n<title>140445540119664-&gt;140445540119048</title>\n<path d=\"M528.1002,-166.3799C526.7162,-158.1745 525.1295,-148.7679 523.6301,-139.8786\" fill=\"none\" stroke=\"#000000\"/>\n<polygon fill=\"#000000\" points=\"527.042,-139.0625 521.9274,-129.784 520.1395,-140.2269 527.042,-139.0625\" stroke=\"#000000\"/>\n</g>\n<!-- 140445540119104 -->\n<g class=\"node\" id=\"node7\">\n<title>140445540119104</title>\n<polygon fill=\"none\" points=\"211,-.5 211,-46.5 493,-46.5 493,-.5 211,-.5\" stroke=\"#000000\"/>\n<text fill=\"#000000\" font-family=\"Times,serif\" font-size=\"14.00\" text-anchor=\"middle\" x=\"251\" y=\"-19.8\">dot_7: Dot</text>\n<polyline fill=\"none\" points=\"291,-.5 291,-46.5 \" stroke=\"#000000\"/>\n<text fill=\"#000000\" font-family=\"Times,serif\" font-size=\"14.00\" text-anchor=\"middle\" x=\"320\" y=\"-31.3\">input:</text>\n<polyline fill=\"none\" points=\"291,-23.5 349,-23.5 \" stroke=\"#000000\"/>\n<text fill=\"#000000\" font-family=\"Times,serif\" font-size=\"14.00\" text-anchor=\"middle\" x=\"320\" y=\"-8.3\">output:</text>\n<polyline fill=\"none\" points=\"349,-.5 349,-46.5 \" stroke=\"#000000\"/>\n<text fill=\"#000000\" font-family=\"Times,serif\" font-size=\"14.00\" text-anchor=\"middle\" x=\"421\" y=\"-31.3\">[(None, 3), (None, 3)]</text>\n<polyline fill=\"none\" points=\"349,-23.5 493,-23.5 \" stroke=\"#000000\"/>\n<text fill=\"#000000\" font-family=\"Times,serif\" font-size=\"14.00\" text-anchor=\"middle\" x=\"421\" y=\"-8.3\">(None, 1)</text>\n</g>\n<!-- 140445540118824&#45;&gt;140445540119104 -->\n<g class=\"edge\" id=\"edge5\">\n<title>140445540118824-&gt;140445540119104</title>\n<path d=\"M243.0619,-83.3799C261.0668,-73.4832 282.2511,-61.8388 301.1285,-51.4625\" fill=\"none\" stroke=\"#000000\"/>\n<polygon fill=\"#000000\" points=\"302.8246,-54.5241 309.902,-46.6399 299.4527,-48.3898 302.8246,-54.5241\" stroke=\"#000000\"/>\n</g>\n<!-- 140445540119048&#45;&gt;140445540119104 -->\n<g class=\"edge\" id=\"edge6\">\n<title>140445540119048-&gt;140445540119104</title>\n<path d=\"M471.7597,-83.3799C451.7872,-73.3936 428.2558,-61.6279 407.3622,-51.1811\" fill=\"none\" stroke=\"#000000\"/>\n<polygon fill=\"#000000\" points=\"408.7894,-47.9816 398.2799,-46.6399 405.6589,-54.2426 408.7894,-47.9816\" stroke=\"#000000\"/>\n</g>\n</g>\n</svg>"
          },
          "metadata": {
            "tags": []
          },
          "execution_count": 81
        }
      ]
    },
    {
      "cell_type": "code",
      "metadata": {
        "id": "HylqwqJGAEqR",
        "colab_type": "code",
        "colab": {
          "base_uri": "https://localhost:8080/",
          "height": 416
        },
        "outputId": "98e75e58-5591-40e9-d5f2-742c26f526c5"
      },
      "source": [
        "model.summary()"
      ],
      "execution_count": 82,
      "outputs": [
        {
          "output_type": "stream",
          "text": [
            "Model: \"model_6\"\n",
            "__________________________________________________________________________________________________\n",
            "Layer (type)                    Output Shape         Param #     Connected to                     \n",
            "==================================================================================================\n",
            "Item (InputLayer)               (None, 1)            0                                            \n",
            "__________________________________________________________________________________________________\n",
            "User (InputLayer)               (None, 1)            0                                            \n",
            "__________________________________________________________________________________________________\n",
            "Movie-Embedding (Embedding)     (None, 1, 3)         29175       Item[0][0]                       \n",
            "__________________________________________________________________________________________________\n",
            "User-Embedding (Embedding)      (None, 1, 3)         1833        User[0][0]                       \n",
            "__________________________________________________________________________________________________\n",
            "FlattenMovies (Flatten)         (None, 3)            0           Movie-Embedding[0][0]            \n",
            "__________________________________________________________________________________________________\n",
            "FlattenUsers (Flatten)          (None, 3)            0           User-Embedding[0][0]             \n",
            "__________________________________________________________________________________________________\n",
            "dot_7 (Dot)                     (None, 1)            0           FlattenMovies[0][0]              \n",
            "                                                                 FlattenUsers[0][0]               \n",
            "==================================================================================================\n",
            "Total params: 31,008\n",
            "Trainable params: 31,008\n",
            "Non-trainable params: 0\n",
            "__________________________________________________________________________________________________\n"
          ],
          "name": "stdout"
        }
      ]
    },
    {
      "cell_type": "code",
      "metadata": {
        "id": "wh7dFe1XAj4Z",
        "colab_type": "code",
        "colab": {}
      },
      "source": [
        "log_dir=\"/content/log/\"\n",
        "\n",
        "tensorboard_callback = keras.callbacks.TensorBoard(log_dir=log_dir, histogram_freq=1,\n",
        "                         write_graph=True,\n",
        "                         write_grads=True,\n",
        "                         batch_size=10,\n",
        "                         write_images=True)\n",
        "history=model.fit([train.user_id,train.item_id],train.rating,epochs=5,verbose=0,validation_data=([test.user_id,test.item_id],test.rating),callbacks=[tensorboard_callback])\n",
        "\n"
      ],
      "execution_count": 0,
      "outputs": []
    },
    {
      "cell_type": "code",
      "metadata": {
        "id": "rym2yUvkF_68",
        "colab_type": "code",
        "colab": {
          "base_uri": "https://localhost:8080/",
          "height": 243
        },
        "outputId": "3c8bda90-d63c-47fb-bbb4-5ae6bfa08470"
      },
      "source": [
        "!wget https://bin.equinox.io/c/4VmDzA7iaHb/ngrok-stable-linux-amd64.zip\n",
        "!unzip ngrok-stable-linux-amd64.zip"
      ],
      "execution_count": 101,
      "outputs": [
        {
          "output_type": "stream",
          "text": [
            "--2019-09-02 22:43:16--  https://bin.equinox.io/c/4VmDzA7iaHb/ngrok-stable-linux-amd64.zip\n",
            "Resolving bin.equinox.io (bin.equinox.io)... 3.223.24.224, 52.7.202.148, 52.1.34.99, ...\n",
            "Connecting to bin.equinox.io (bin.equinox.io)|3.223.24.224|:443... connected.\n",
            "HTTP request sent, awaiting response... 200 OK\n",
            "Length: 13607069 (13M) [application/octet-stream]\n",
            "Saving to: ‘ngrok-stable-linux-amd64.zip’\n",
            "\n",
            "ngrok-stable-linux- 100%[===================>]  12.98M  18.5MB/s    in 0.7s    \n",
            "\n",
            "2019-09-02 22:43:17 (18.5 MB/s) - ‘ngrok-stable-linux-amd64.zip’ saved [13607069/13607069]\n",
            "\n",
            "Archive:  ngrok-stable-linux-amd64.zip\n",
            "  inflating: ngrok                   \n"
          ],
          "name": "stdout"
        }
      ]
    },
    {
      "cell_type": "code",
      "metadata": {
        "id": "qB_nxH2KJYNF",
        "colab_type": "code",
        "colab": {}
      },
      "source": [
        "get_ipython().system_raw(\n",
        "    'tensorboard --logdir {} --host 0.0.0.0 --port 6006 &'\n",
        "    .format(log_dir)\n",
        ")"
      ],
      "execution_count": 0,
      "outputs": []
    },
    {
      "cell_type": "code",
      "metadata": {
        "id": "xgSPyIfiJkXt",
        "colab_type": "code",
        "colab": {}
      },
      "source": [
        "get_ipython().system_raw('./ngrok http 6006 &')"
      ],
      "execution_count": 0,
      "outputs": []
    },
    {
      "cell_type": "code",
      "metadata": {
        "id": "U8RQxPAfJwkj",
        "colab_type": "code",
        "colab": {
          "base_uri": "https://localhost:8080/",
          "height": 35
        },
        "outputId": "b72dc83b-8e73-47e8-e3ee-3ffdf8a2b3ee"
      },
      "source": [
        "! curl -s http://localhost:4040/api/tunnels | python3 -c \\\n",
        "    \"import sys, json; print(json.load(sys.stdin)['tunnels'][0]['public_url'])\""
      ],
      "execution_count": 117,
      "outputs": [
        {
          "output_type": "stream",
          "text": [
            "https://31ab4812.ngrok.io\n"
          ],
          "name": "stdout"
        }
      ]
    },
    {
      "cell_type": "code",
      "metadata": {
        "id": "3OjuCHnbJ2q8",
        "colab_type": "code",
        "colab": {}
      },
      "source": [
        ""
      ],
      "execution_count": 0,
      "outputs": []
    }
  ]
}